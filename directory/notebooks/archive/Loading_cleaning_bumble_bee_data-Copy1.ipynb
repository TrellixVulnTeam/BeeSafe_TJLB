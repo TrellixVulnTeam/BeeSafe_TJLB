{
 "cells": [
  {
   "cell_type": "markdown",
   "metadata": {},
   "source": [
    "## Importing Neccessary Python Tools for Data Wrangling"
   ]
  },
  {
   "cell_type": "code",
   "execution_count": 1,
   "metadata": {},
   "outputs": [],
   "source": [
    "import pycaret\n",
    "import pandas as pd\n",
    "import csv\n",
    "import matplotlib.pyplot as plt\n",
    "%matplotlib inline\n",
    "import os"
   ]
  },
  {
   "cell_type": "code",
   "execution_count": 2,
   "metadata": {},
   "outputs": [],
   "source": [
    "data_re = pd.read_csv(\"../data/cleaned/2cleaned4_6_20_fillna.csv\")"
   ]
  },
  {
   "cell_type": "code",
   "execution_count": 3,
   "metadata": {},
   "outputs": [
    {
     "data": {
      "text/plain": [
       "['Unnamed: 0',\n",
       " 'Unnamed: 0.1',\n",
       " 'id',\n",
       " 'bee_count',\n",
       " 'plant_host',\n",
       " 'year',\n",
       " 'month',\n",
       " 'latitude',\n",
       " 'longitude',\n",
       " 'scientificName']"
      ]
     },
     "execution_count": 3,
     "metadata": {},
     "output_type": "execute_result"
    }
   ],
   "source": [
    "data_re = data_re.drop(['state','county'], axis=1)\n",
    "list(data_re)"
   ]
  },
  {
   "cell_type": "code",
   "execution_count": 4,
   "metadata": {},
   "outputs": [
    {
     "data": {
      "text/plain": [
       "Cirsium sp.              5507\n",
       "Lupinus sp.               386\n",
       "Withheld                  359\n",
       "Trifolium sp.             297\n",
       "Epilobium parviflorum     267\n",
       "                         ... \n",
       "Taraxacum officinale        1\n",
       "Campanula sp.               1\n",
       "Digitalis purpurea          1\n",
       "Prunella sp.                1\n",
       "Verbascum thapsus           1\n",
       "Name: plant_host, Length: 84, dtype: int64"
      ]
     },
     "execution_count": 4,
     "metadata": {},
     "output_type": "execute_result"
    }
   ],
   "source": [
    "data_re[\"plant_host\"].value_counts()"
   ]
  },
  {
   "cell_type": "code",
   "execution_count": 5,
   "metadata": {},
   "outputs": [],
   "source": [
    "data_re = pd.get_dummies(data_re, columns=['plant_host'])\n",
    "data_re = pd.get_dummies(data_re, columns=['month'])"
   ]
  },
  {
   "cell_type": "code",
   "execution_count": 6,
   "metadata": {},
   "outputs": [],
   "source": [
    "data_re.head()\n",
    "data_re['bee_count']=pd.to_numeric(data_re.bee_count)\n",
    "data_re.dtypes\n",
    "data_re.to_csv(\"../data/cleaned/2cleaned_pycaret.csv\")"
   ]
  },
  {
   "cell_type": "code",
   "execution_count": null,
   "metadata": {},
   "outputs": [],
   "source": []
  }
 ],
 "metadata": {
  "kernelspec": {
   "display_name": "Python 3",
   "language": "python",
   "name": "python3"
  },
  "language_info": {
   "codemirror_mode": {
    "name": "ipython",
    "version": 3
   },
   "file_extension": ".py",
   "mimetype": "text/x-python",
   "name": "python",
   "nbconvert_exporter": "python",
   "pygments_lexer": "ipython3",
   "version": "3.8.2"
  }
 },
 "nbformat": 4,
 "nbformat_minor": 4
}
