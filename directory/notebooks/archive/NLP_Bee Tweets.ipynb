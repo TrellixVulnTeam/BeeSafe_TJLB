{
 "cells": [
  {
   "cell_type": "code",
   "execution_count": 1,
   "metadata": {},
   "outputs": [],
   "source": [
    "import pycaret\n",
    "import pandas as pd\n",
    "import csv\n",
    "import matplotlib.pyplot as plt\n",
    "%matplotlib inline\n",
    "import os\n"
   ]
  },
  {
   "cell_type": "code",
   "execution_count": 2,
   "metadata": {},
   "outputs": [],
   "source": [
    "tweets = pd.read_csv(\"../data/raw/tweet-ids-001copy.csv\")"
   ]
  },
  {
   "cell_type": "code",
   "execution_count": 3,
   "metadata": {
    "scrolled": true
   },
   "outputs": [
    {
     "data": {
      "text/html": [
       "<style  type=\"text/css\" >\n",
       "</style><table id=\"T_8a8ab7da_a71a_11ea_8a92_b8e8562ad504\" ><thead>    <tr>        <th class=\"col_heading level0 col0\" >Description</th>        <th class=\"col_heading level0 col1\" >Value</th>    </tr></thead><tbody>\n",
       "                <tr>\n",
       "                                <td id=\"T_8a8ab7da_a71a_11ea_8a92_b8e8562ad504row0_col0\" class=\"data row0 col0\" >session_id</td>\n",
       "                        <td id=\"T_8a8ab7da_a71a_11ea_8a92_b8e8562ad504row0_col1\" class=\"data row0 col1\" >7890</td>\n",
       "            </tr>\n",
       "            <tr>\n",
       "                                <td id=\"T_8a8ab7da_a71a_11ea_8a92_b8e8562ad504row1_col0\" class=\"data row1 col0\" ># Documents</td>\n",
       "                        <td id=\"T_8a8ab7da_a71a_11ea_8a92_b8e8562ad504row1_col1\" class=\"data row1 col1\" >11011</td>\n",
       "            </tr>\n",
       "            <tr>\n",
       "                                <td id=\"T_8a8ab7da_a71a_11ea_8a92_b8e8562ad504row2_col0\" class=\"data row2 col0\" >Vocab Size</td>\n",
       "                        <td id=\"T_8a8ab7da_a71a_11ea_8a92_b8e8562ad504row2_col1\" class=\"data row2 col1\" >7804</td>\n",
       "            </tr>\n",
       "            <tr>\n",
       "                                <td id=\"T_8a8ab7da_a71a_11ea_8a92_b8e8562ad504row3_col0\" class=\"data row3 col0\" >Custom Stopwords</td>\n",
       "                        <td id=\"T_8a8ab7da_a71a_11ea_8a92_b8e8562ad504row3_col1\" class=\"data row3 col1\" >False</td>\n",
       "            </tr>\n",
       "    </tbody></table>"
      ],
      "text/plain": [
       "<pandas.io.formats.style.Styler at 0x7fd959f7d820>"
      ]
     },
     "metadata": {},
     "output_type": "display_data"
    }
   ],
   "source": [
    "#import nlp module\n",
    "from pycaret.nlp import *\n",
    "#intialize the setup\n",
    "exp_nlp = setup(data = tweets, target = 'text')"
   ]
  },
  {
   "cell_type": "code",
   "execution_count": 4,
   "metadata": {},
   "outputs": [],
   "source": [
    "lda = create_model('lda')"
   ]
  },
  {
   "cell_type": "code",
   "execution_count": 5,
   "metadata": {},
   "outputs": [],
   "source": [
    "# label the data using trained model\n",
    "lda_df = assign_model(lda)"
   ]
  },
  {
   "cell_type": "code",
   "execution_count": 10,
   "metadata": {},
   "outputs": [
    {
     "data": {
      "text/html": [
       "        <script type=\"text/javascript\">\n",
       "        window.PlotlyConfig = {MathJaxConfig: 'local'};\n",
       "        if (window.MathJax) {MathJax.Hub.Config({SVG: {font: \"STIX-Web\"}});}\n",
       "        if (typeof require !== 'undefined') {\n",
       "        require.undef(\"plotly\");\n",
       "        requirejs.config({\n",
       "            paths: {\n",
       "                'plotly': ['https://cdn.plot.ly/plotly-latest.min']\n",
       "            }\n",
       "        });\n",
       "        require(['plotly'], function(Plotly) {\n",
       "            window._Plotly = Plotly;\n",
       "        });\n",
       "        }\n",
       "        </script>\n",
       "        "
      ]
     },
     "metadata": {},
     "output_type": "display_data"
    },
    {
     "name": "stderr",
     "output_type": "stream",
     "text": [
      "ERROR:root:Internal Python error in the inspect module.\n",
      "Below is the traceback from this internal error.\n",
      "\n"
     ]
    },
    {
     "name": "stdout",
     "output_type": "stream",
     "text": [
      "Traceback (most recent call last):\n",
      "  File \"/Users/ericasa1/opt/anaconda3/envs/insight/lib/python3.8/site-packages/pycaret/nlp.py\", line 1292, in plot_model\n",
      "    common_words = get_top_n_words(filtered_df[target_], n=100)\n",
      "  File \"/Users/ericasa1/opt/anaconda3/envs/insight/lib/python3.8/site-packages/pycaret/nlp.py\", line 1271, in get_top_n_words\n",
      "    bag_of_words = vec.fit_transform(corpus)\n",
      "  File \"/Users/ericasa1/opt/anaconda3/envs/insight/lib/python3.8/site-packages/sklearn/feature_extraction/text.py\", line 1219, in fit_transform\n",
      "    vocabulary, X = self._count_vocab(raw_documents,\n",
      "  File \"/Users/ericasa1/opt/anaconda3/envs/insight/lib/python3.8/site-packages/sklearn/feature_extraction/text.py\", line 1150, in _count_vocab\n",
      "    raise ValueError(\"empty vocabulary; perhaps the documents only\"\n",
      "ValueError: empty vocabulary; perhaps the documents only contain stop words\n",
      "\n",
      "During handling of the above exception, another exception occurred:\n",
      "\n",
      "Traceback (most recent call last):\n",
      "  File \"/Users/ericasa1/opt/anaconda3/envs/insight/lib/python3.8/site-packages/IPython/core/interactiveshell.py\", line 3331, in run_code\n",
      "    exec(code_obj, self.user_global_ns, self.user_ns)\n",
      "  File \"<ipython-input-10-deedfb536ce9>\", line 1, in <module>\n",
      "    plot_model(lda)\n",
      "  File \"/Users/ericasa1/opt/anaconda3/envs/insight/lib/python3.8/site-packages/pycaret/nlp.py\", line 1300, in plot_model\n",
      "    sys.exit('(Value Error): Invalid topic_num param or empty Vocab. Try changing Topic Number.')\n",
      "SystemExit: (Value Error): Invalid topic_num param or empty Vocab. Try changing Topic Number.\n",
      "\n",
      "During handling of the above exception, another exception occurred:\n",
      "\n",
      "Traceback (most recent call last):\n",
      "  File \"/Users/ericasa1/opt/anaconda3/envs/insight/lib/python3.8/site-packages/IPython/core/ultratb.py\", line 1148, in get_records\n",
      "    return _fixed_getinnerframes(etb, number_of_lines_of_context, tb_offset)\n",
      "  File \"/Users/ericasa1/opt/anaconda3/envs/insight/lib/python3.8/site-packages/IPython/core/ultratb.py\", line 316, in wrapped\n",
      "    return f(*args, **kwargs)\n",
      "  File \"/Users/ericasa1/opt/anaconda3/envs/insight/lib/python3.8/site-packages/IPython/core/ultratb.py\", line 350, in _fixed_getinnerframes\n",
      "    records = fix_frame_records_filenames(inspect.getinnerframes(etb, context))\n",
      "  File \"/Users/ericasa1/opt/anaconda3/envs/insight/lib/python3.8/inspect.py\", line 1503, in getinnerframes\n",
      "    frameinfo = (tb.tb_frame,) + getframeinfo(tb, context)\n",
      "AttributeError: 'tuple' object has no attribute 'tb_frame'\n"
     ]
    },
    {
     "ename": "SystemExit",
     "evalue": "(Value Error): Invalid topic_num param or empty Vocab. Try changing Topic Number.",
     "output_type": "error",
     "traceback": [
      "An exception has occurred, use %tb to see the full traceback.\n",
      "\u001b[0;31m---------------------------------------------------------------------------\u001b[0m",
      "\nDuring handling of the above exception, another exception occurred:\n",
      "\u001b[0;31mSystemExit\u001b[0m\u001b[0;31m:\u001b[0m (Value Error): Invalid topic_num param or empty Vocab. Try changing Topic Number.\n"
     ]
    }
   ],
   "source": [
    "plot_model(lda)"
   ]
  },
  {
   "cell_type": "code",
   "execution_count": 9,
   "metadata": {
    "scrolled": true
   },
   "outputs": [
    {
     "data": {
      "application/vnd.jupyter.widget-view+json": {
       "model_id": "41b7521e427f4a31a51b20913c63de0c",
       "version_major": 2,
       "version_minor": 0
      },
      "text/plain": [
       "interactive(children=(ToggleButtons(description='Plot Type:', icons=('',), options=(('Frequency Plot', 'freque…"
      ]
     },
     "metadata": {},
     "output_type": "display_data"
    }
   ],
   "source": [
    "evaluate_model(lda)"
   ]
  },
  {
   "cell_type": "code",
   "execution_count": null,
   "metadata": {},
   "outputs": [],
   "source": []
  }
 ],
 "metadata": {
  "kernelspec": {
   "display_name": "Python 3",
   "language": "python",
   "name": "python3"
  },
  "language_info": {
   "codemirror_mode": {
    "name": "ipython",
    "version": 3
   },
   "file_extension": ".py",
   "mimetype": "text/x-python",
   "name": "python",
   "nbconvert_exporter": "python",
   "pygments_lexer": "ipython3",
   "version": "3.8.2"
  }
 },
 "nbformat": 4,
 "nbformat_minor": 4
}
