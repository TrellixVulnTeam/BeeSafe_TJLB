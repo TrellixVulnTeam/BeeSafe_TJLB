{
 "cells": [
  {
   "cell_type": "markdown",
   "metadata": {},
   "source": [
    "## Importing Neccessary Python Tools for Data Wrangling"
   ]
  },
  {
   "cell_type": "code",
   "execution_count": 1,
   "metadata": {},
   "outputs": [],
   "source": [
    "import pandas as pd\n",
    "import csv\n",
    "import matplotlib.pyplot as plt\n",
    "%matplotlib inline\n",
    "import os"
   ]
  },
  {
   "cell_type": "markdown",
   "metadata": {},
   "source": [
    "## Loading in raw dataset"
   ]
  },
  {
   "cell_type": "code",
   "execution_count": 184,
   "metadata": {},
   "outputs": [],
   "source": [
    "#raw dataset\n",
    "bee = pd.read_csv(\"../data/raw/bumble_bee.csv\")"
   ]
  },
  {
   "cell_type": "code",
   "execution_count": 185,
   "metadata": {},
   "outputs": [],
   "source": [
    "#saving a copy of raw dateset into the processed folder\n",
    "bee.to_csv(\"../data/processed/1processed_4_6_20.csv\")"
   ]
  },
  {
   "cell_type": "code",
   "execution_count": 186,
   "metadata": {},
   "outputs": [],
   "source": [
    "#The copy of raw dataset has been read in for processing\n",
    "processed1 = pd.read_csv(\"../data/processed/1processed_4_6_20.csv\")"
   ]
  },
  {
   "cell_type": "code",
   "execution_count": 187,
   "metadata": {
    "scrolled": true
   },
   "outputs": [],
   "source": [
    "#Selecting only relevant columns for our regression problem\n",
    "processed1 = processed1.loc[ : , ['id','individualCount', 'associatedTaxa', 'year', 'month', 'stateProvince', 'county', 'decimalLatitude','decimalLongitude','scientificName']]"
   ]
  },
  {
   "cell_type": "code",
   "execution_count": 188,
   "metadata": {},
   "outputs": [
    {
     "data": {
      "text/plain": [
       "['id',\n",
       " 'individualCount',\n",
       " 'associatedTaxa',\n",
       " 'year',\n",
       " 'month',\n",
       " 'stateProvince',\n",
       " 'county',\n",
       " 'decimalLatitude',\n",
       " 'decimalLongitude',\n",
       " 'scientificName']"
      ]
     },
     "execution_count": 188,
     "metadata": {},
     "output_type": "execute_result"
    }
   ],
   "source": [
    "list(processed1)"
   ]
  },
  {
   "cell_type": "markdown",
   "metadata": {},
   "source": [
    "## Renaming the data columns for easy identification and dropping columns : year, id, and scientific name. Columns were dropped because they would not be needed in our proposed model"
   ]
  },
  {
   "cell_type": "code",
   "execution_count": 189,
   "metadata": {},
   "outputs": [],
   "source": [
    "#Renaming columns\n",
    "processed1.rename(columns= {'individualCount': 'bee_count'} , inplace=True)\n",
    "processed1.rename(columns= {'stateProvince': \"state\"} , inplace=True)\n",
    "processed1.rename(columns= {'decimalLatitude': \"latitude\"} , inplace=True)\n",
    "processed1.rename(columns= {'decimalLongitude': \"longitude\"} , inplace=True)\n",
    "processed1.rename(columns= {'associatedTaxa': \"plant_host\"} , inplace=True)\n"
   ]
  },
  {
   "cell_type": "code",
   "execution_count": 190,
   "metadata": {},
   "outputs": [
    {
     "data": {
      "text/plain": [
       "july         5306\n",
       "october      4086\n",
       "june          806\n",
       "september      13\n",
       "Name: month, dtype: int64"
      ]
     },
     "execution_count": 190,
     "metadata": {},
     "output_type": "execute_result"
    }
   ],
   "source": [
    "#renaming month labels\n",
    "renaming_monthlabels = {\"month\":     {6: \"june\", 7: 'july', 8 : 'october', 9: 'september', 0: 'october'}}\n",
    "                       \n",
    "processed1.replace(renaming_monthlabels, inplace=True)\n",
    "list(processed1)\n",
    "\n",
    "processed1['month'].value_counts()"
   ]
  },
  {
   "cell_type": "code",
   "execution_count": 194,
   "metadata": {},
   "outputs": [],
   "source": [
    "#saving a copy of raw dateset into the processed folder\n",
    "processed1.to_csv(\"../data/cleaned/1cleaned_4_6_20.csv\")\n",
    "\n",
    "#Checking to see if I have the right columns\n",
    "processed2 = pd.read_csv(\"../data/cleaned/1cleaned_4_6_20.csv\")"
   ]
  },
  {
   "cell_type": "code",
   "execution_count": 196,
   "metadata": {},
   "outputs": [],
   "source": [
    "#Check the rows with null information or NaN so that we could do imputation\n",
    "#processed2[processed2.isnull().any(axis=1)]\n"
   ]
  },
  {
   "cell_type": "code",
   "execution_count": 198,
   "metadata": {},
   "outputs": [],
   "source": [
    "#Plant host categorical variable has all the null rows, so the null values will be replaced with its mode (Cirsium sp.)\n",
    "processed3 = processed2.fillna({\"plant_host\": \"Cirsium sp.\"})\n",
    "processed3.to_csv(\"../data/cleaned/2cleaned4_6_20_fillna.csv\")"
   ]
  },
  {
   "cell_type": "markdown",
   "metadata": {},
   "source": [
    "## Quick check of the distribution of the target variable (bee_count or bumble bee richness) and unique values of the main feature (plant_host). The main feature is a categorical variable"
   ]
  },
  {
   "cell_type": "code",
   "execution_count": 208,
   "metadata": {},
   "outputs": [
    {
     "data": {
      "text/plain": [
       "['bee_count',\n",
       " 'plant_host',\n",
       " 'month',\n",
       " 'state',\n",
       " 'county',\n",
       " 'latitude',\n",
       " 'longitude']"
      ]
     },
     "execution_count": 208,
     "metadata": {},
     "output_type": "execute_result"
    }
   ],
   "source": [
    "processed3 = pd.read_csv(\"../data/cleaned/2cleaned4_6_20_fillna.csv\")\n",
    "list(processed3)"
   ]
  },
  {
   "cell_type": "code",
   "execution_count": 200,
   "metadata": {},
   "outputs": [
    {
     "data": {
      "text/plain": [
       "(array([9.958e+03, 1.300e+02, 5.300e+01, 2.800e+01, 2.200e+01, 1.100e+01,\n",
       "        6.000e+00, 0.000e+00, 1.000e+00, 2.000e+00]),\n",
       " array([  0. ,  10.6,  21.2,  31.8,  42.4,  53. ,  63.6,  74.2,  84.8,\n",
       "         95.4, 106. ]),\n",
       " <a list of 10 Patch objects>)"
      ]
     },
     "execution_count": 200,
     "metadata": {},
     "output_type": "execute_result"
    },
    {
     "data": {
      "image/png": "[encoded data removed]",
      "text/plain": [
       "<Figure size 432x288 with 1 Axes>"
      ]
     },
     "metadata": {
      "needs_background": "light"
     },
     "output_type": "display_data"
    }
   ],
   "source": [
    "#Distribution of target variable is skewed to the left\n",
    "plt.hist(processed3[\"bee_count\"])"
   ]
  },
  {
   "cell_type": "code",
   "execution_count": 202,
   "metadata": {},
   "outputs": [
    {
     "data": {
      "text/plain": [
       "1      9594\n",
       "2       101\n",
       "3        50\n",
       "4        41\n",
       "5        33\n",
       "       ... \n",
       "58        1\n",
       "106       1\n",
       "28        1\n",
       "67        1\n",
       "71        1\n",
       "Name: bee_count, Length: 68, dtype: int64"
      ]
     },
     "execution_count": 202,
     "metadata": {},
     "output_type": "execute_result"
    }
   ],
   "source": [
    "#Assessing the counts of the unique values of the target variable\n",
    "processed3[\"bee_count\"].value_counts()"
   ]
  },
  {
   "cell_type": "code",
   "execution_count": 203,
   "metadata": {},
   "outputs": [
    {
     "data": {
      "text/plain": [
       "Cirsium sp.              5507\n",
       "Lupinus sp.               386\n",
       "Withheld                  359\n",
       "Trifolium sp.             297\n",
       "Epilobium parviflorum     267\n",
       "                         ... \n",
       "Chrysothamnus sp.           1\n",
       "Grindelia sp.               1\n",
       "Verbascum thapsus           1\n",
       "Medicago sativa             1\n",
       "Campanula sp.               1\n",
       "Name: plant_host, Length: 84, dtype: int64"
      ]
     },
     "execution_count": 203,
     "metadata": {},
     "output_type": "execute_result"
    }
   ],
   "source": [
    "#Assessing the counts of the unique values of the main feature variable\n",
    "processed3[\"plant_host\"].value_counts()"
   ]
  },
  {
   "cell_type": "markdown",
   "metadata": {},
   "source": [
    "## Using SMOGN to correct for oversampling at lower values of bee counts"
   ]
  },
  {
   "cell_type": "code",
   "execution_count": 204,
   "metadata": {},
   "outputs": [],
   "source": [
    "*import smogn"
   ]
  },
  {
   "cell_type": "code",
   "execution_count": 207,
   "metadata": {},
   "outputs": [
    {
     "name": "stderr",
     "output_type": "stream",
     "text": [
      "dist_matrix:   0%|          | 0/17 [00:00<?, ?it/s]\n"
     ]
    },
    {
     "ename": "IndexError",
     "evalue": "list assignment index out of range",
     "output_type": "error",
     "traceback": [
      "\u001b[0;31m---------------------------------------------------------------------------\u001b[0m",
      "\u001b[0;31mIndexError\u001b[0m                                Traceback (most recent call last)",
      "\u001b[0;32m<ipython-input-207-7fe2545b0999>\u001b[0m in \u001b[0;36m<module>\u001b[0;34m\u001b[0m\n\u001b[1;32m      1\u001b[0m \u001b[0;31m## specify phi relevance values\u001b[0m\u001b[0;34m\u001b[0m\u001b[0;34m\u001b[0m\u001b[0;34m\u001b[0m\u001b[0m\n\u001b[1;32m      2\u001b[0m \u001b[0;34m\u001b[0m\u001b[0m\n\u001b[0;32m----> 3\u001b[0;31m bumble_bee_smogn = smogn.smoter(\n\u001b[0m\u001b[1;32m      4\u001b[0m \u001b[0;34m\u001b[0m\u001b[0m\n\u001b[1;32m      5\u001b[0m     \u001b[0mdata\u001b[0m \u001b[0;34m=\u001b[0m \u001b[0mprocessed3\u001b[0m\u001b[0;34m,\u001b[0m\u001b[0;34m\u001b[0m\u001b[0;34m\u001b[0m\u001b[0m\n",
      "\u001b[0;32m~/opt/anaconda3/envs/insight/lib/python3.8/site-packages/smogn/smoter.py\u001b[0m in \u001b[0;36msmoter\u001b[0;34m(data, y, k, pert, samp_method, under_samp, drop_na_col, drop_na_row, replace, rel_thres, rel_method, rel_xtrm_type, rel_coef, rel_ctrl_pts_rg)\u001b[0m\n\u001b[1;32m    238\u001b[0m             \u001b[0;31m## considered 'minority'\u001b[0m\u001b[0;34m\u001b[0m\u001b[0;34m\u001b[0m\u001b[0;34m\u001b[0m\u001b[0m\n\u001b[1;32m    239\u001b[0m             \u001b[0;31m## (see 'over_sampling()' function for details)\u001b[0m\u001b[0;34m\u001b[0m\u001b[0;34m\u001b[0m\u001b[0;34m\u001b[0m\u001b[0m\n\u001b[0;32m--> 240\u001b[0;31m             synth_obs = over_sampling(\n\u001b[0m\u001b[1;32m    241\u001b[0m                 \u001b[0mdata\u001b[0m \u001b[0;34m=\u001b[0m \u001b[0mdata\u001b[0m\u001b[0;34m,\u001b[0m\u001b[0;34m\u001b[0m\u001b[0;34m\u001b[0m\u001b[0m\n\u001b[1;32m    242\u001b[0m                 \u001b[0mindex\u001b[0m \u001b[0;34m=\u001b[0m \u001b[0mlist\u001b[0m\u001b[0;34m(\u001b[0m\u001b[0mb_index\u001b[0m\u001b[0;34m[\u001b[0m\u001b[0mi\u001b[0m\u001b[0;34m]\u001b[0m\u001b[0;34m.\u001b[0m\u001b[0mindex\u001b[0m\u001b[0;34m)\u001b[0m\u001b[0;34m,\u001b[0m\u001b[0;34m\u001b[0m\u001b[0;34m\u001b[0m\u001b[0m\n",
      "\u001b[0;32m~/opt/anaconda3/envs/insight/lib/python3.8/site-packages/smogn/over_sampling.py\u001b[0m in \u001b[0;36mover_sampling\u001b[0;34m(data, index, perc, pert, k)\u001b[0m\n\u001b[1;32m    177\u001b[0m             \u001b[0;31m## and nominal / categorical\u001b[0m\u001b[0;34m\u001b[0m\u001b[0;34m\u001b[0m\u001b[0;34m\u001b[0m\u001b[0m\n\u001b[1;32m    178\u001b[0m             \u001b[0;32mif\u001b[0m \u001b[0mfeat_count_nom\u001b[0m \u001b[0;34m>\u001b[0m \u001b[0;36m0\u001b[0m \u001b[0;32mand\u001b[0m \u001b[0mfeat_count_num\u001b[0m \u001b[0;34m>\u001b[0m \u001b[0;36m0\u001b[0m\u001b[0;34m:\u001b[0m\u001b[0;34m\u001b[0m\u001b[0;34m\u001b[0m\u001b[0m\n\u001b[0;32m--> 179\u001b[0;31m                 dist_matrix[i][j] = heom_dist(\n\u001b[0m\u001b[1;32m    180\u001b[0m \u001b[0;34m\u001b[0m\u001b[0m\n\u001b[1;32m    181\u001b[0m                     \u001b[0;31m## numeric inputs\u001b[0m\u001b[0;34m\u001b[0m\u001b[0;34m\u001b[0m\u001b[0;34m\u001b[0m\u001b[0m\n",
      "\u001b[0;32m~/opt/anaconda3/envs/insight/lib/python3.8/site-packages/smogn/dist_metrics.py\u001b[0m in \u001b[0;36mheom_dist\u001b[0;34m(a_num, b_num, d_num, ranges_num, a_nom, b_nom, d_nom)\u001b[0m\n\u001b[1;32m     71\u001b[0m         \u001b[0;31m## in two vectors a and b of equal length\u001b[0m\u001b[0;34m\u001b[0m\u001b[0;34m\u001b[0m\u001b[0;34m\u001b[0m\u001b[0m\n\u001b[1;32m     72\u001b[0m         \u001b[0;32mif\u001b[0m \u001b[0ma_nom\u001b[0m\u001b[0;34m.\u001b[0m\u001b[0miloc\u001b[0m\u001b[0;34m[\u001b[0m\u001b[0mi\u001b[0m\u001b[0;34m]\u001b[0m \u001b[0;34m==\u001b[0m \u001b[0mb_nom\u001b[0m\u001b[0;34m.\u001b[0m\u001b[0miloc\u001b[0m\u001b[0;34m[\u001b[0m\u001b[0mi\u001b[0m\u001b[0;34m]\u001b[0m\u001b[0;34m:\u001b[0m\u001b[0;34m\u001b[0m\u001b[0;34m\u001b[0m\u001b[0m\n\u001b[0;32m---> 73\u001b[0;31m             \u001b[0mdist\u001b[0m\u001b[0;34m[\u001b[0m\u001b[0mi\u001b[0m\u001b[0;34m]\u001b[0m \u001b[0;34m=\u001b[0m \u001b[0;36m0\u001b[0m\u001b[0;34m\u001b[0m\u001b[0;34m\u001b[0m\u001b[0m\n\u001b[0m\u001b[1;32m     74\u001b[0m \u001b[0;34m\u001b[0m\u001b[0m\n\u001b[1;32m     75\u001b[0m         \u001b[0;31m## distance equals 1 for values that are not equal\u001b[0m\u001b[0;34m\u001b[0m\u001b[0;34m\u001b[0m\u001b[0;34m\u001b[0m\u001b[0m\n",
      "\u001b[0;31mIndexError\u001b[0m: list assignment index out of range"
     ]
    }
   ],
   "source": [
    "## specify phi relevance values\n",
    "\n",
    "bumble_bee_smogn = smogn.smoter(\n",
    "\n",
    "    data = processed3, \n",
    "    y = \"bee_count\",\n",
    "    k = 3,                    ## positive integer (k < n)\n",
    "    samp_method = 'balance',  ## string ('balance' or 'extreme')\n",
    "\n",
    "    ## phi relevance arguments\n",
    "    rel_thres = 0.5,         ## positive real number (0 < R < 1)\n",
    "    rel_method = 'auto',      ## string ('auto' or 'manual')\n",
    "    rel_xtrm_type = 'high',   ## string ('low' or 'both' or 'high')\n",
    ")\n"
   ]
  },
  {
   "cell_type": "code",
   "execution_count": 150,
   "metadata": {},
   "outputs": [
    {
     "data": {
      "text/plain": [
       "(array([1.0075e+04, 6.3000e+01, 2.5000e+01, 1.3000e+01, 8.0000e+00,\n",
       "        5.0000e+00, 3.0000e+00, 0.0000e+00, 0.0000e+00, 2.0000e+00]),\n",
       " array([  0. ,  10.6,  21.2,  31.8,  42.4,  53. ,  63.6,  74.2,  84.8,\n",
       "         95.4, 106. ]),\n",
       " <a list of 10 Patch objects>)"
      ]
     },
     "execution_count": 150,
     "metadata": {},
     "output_type": "execute_result"
    },
    {
     "data": {
      "image/png": "[encoded data removed]",
      "text/plain": [
       "<Figure size 432x288 with 1 Axes>"
      ]
     },
     "metadata": {
      "needs_background": "light"
     },
     "output_type": "display_data"
    }
   ],
   "source": [
    "bumble_bee_smogn.to_csv('../data/cleaned/3cleaned_smogn.csv')\n",
    "plt.hist(bumble_bee_smogn['bee_count'])\n",
    "#bumble_bee_smogn['bee_count'].value_counts()"
   ]
  }
 ],
 "metadata": {
  "kernelspec": {
   "display_name": "Python 3",
   "language": "python",
   "name": "python3"
  },
  "language_info": {
   "codemirror_mode": {
    "name": "ipython",
    "version": 3
   },
   "file_extension": ".py",
   "mimetype": "text/x-python",
   "name": "python",
   "nbconvert_exporter": "python",
   "pygments_lexer": "ipython3",
   "version": "3.8.2"
  }
 },
 "nbformat": 4,
 "nbformat_minor": 4
}
