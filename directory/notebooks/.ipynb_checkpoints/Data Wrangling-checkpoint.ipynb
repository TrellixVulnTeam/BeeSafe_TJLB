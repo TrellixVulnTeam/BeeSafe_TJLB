{
 "cells": [
  {
   "cell_type": "markdown",
   "metadata": {},
   "source": [
    "## Importing Neccessary Python Tools for Data Wrangling"
   ]
  },
  {
   "cell_type": "code",
   "execution_count": 2,
   "metadata": {},
   "outputs": [],
   "source": [
    "import pandas as pd\n",
    "import csv\n",
    "import matplotlib.pyplot as plt\n",
    "%matplotlib inline\n",
    "import os"
   ]
  },
  {
   "cell_type": "markdown",
   "metadata": {},
   "source": [
    "## Loading in raw dataset"
   ]
  },
  {
   "cell_type": "code",
   "execution_count": 4,
   "metadata": {},
   "outputs": [],
   "source": [
    "#raw US county-wide survey dataset on bumble bees\n",
    "bee = pd.read_csv(\"../data/raw/us_county_bee.csv\")\n",
    "#raw US county-wide dataset on climatic variables\n",
    "climate = pd.read_csv(\"../data/raw/us_counties_Temp.csv\")\n",
    "#raw US county-wide geometry data\n",
    "geometry = pd.read_csv(\"../data/raw/us_county_geometry.csv\")"
   ]
  },
  {
   "cell_type": "markdown",
   "metadata": {},
   "source": [
    "## Merging all the three datasets based on keys [county and state]"
   ]
  },
  {
   "cell_type": "code",
   "execution_count": 71,
   "metadata": {},
   "outputs": [],
   "source": [
    "#Merging bee to climate\n",
    "bee_temp = bee.join(climate, lsuffix=\"_left\", rsuffix=\"_right\")\n",
    "#Saving merged data to the raw folder\n",
    "bee_temp.to_csv(\"../data/raw/bee_temp_merged.csv\")"
   ]
  },
  {
   "cell_type": "markdown",
   "metadata": {},
   "source": [
    "## Exploring the contents of the merged dataset"
   ]
  },
  {
   "cell_type": "code",
   "execution_count": 72,
   "metadata": {},
   "outputs": [
    {
     "data": {
      "text/plain": [
       "(10211, 25)"
      ]
     },
     "execution_count": 72,
     "metadata": {},
     "output_type": "execute_result"
    }
   ],
   "source": [
    "#is the number of observations in the original raw bees data equal to that of the merged bee-temperature data?\n",
    "bee.shape\n",
    "bee_temp.shape"
   ]
  },
  {
   "cell_type": "code",
   "execution_count": 73,
   "metadata": {},
   "outputs": [],
   "source": [
    "#dropping variables that will not be needed in model estimation and saving the resulting data in processed folder \n",
    "bee_temp2 = bee_temp.drop(['hail', 'snow', 'max_wind_speed', 'max_temp', 'min_temp', 'county_right', 'state_right', 'date' ], axis = 1) \n",
    "bee_temp2.to_csv(\"../data/processed/bee_temp2.csv\")"
   ]
  },
  {
   "cell_type": "code",
   "execution_count": 74,
   "metadata": {},
   "outputs": [
    {
     "data": {
      "text/plain": [
       "['bee_count',\n",
       " 'plant',\n",
       " 'year',\n",
       " 'month',\n",
       " 'state',\n",
       " 'county',\n",
       " 'Latitude',\n",
       " 'Longitude',\n",
       " 'scientificName',\n",
       " 'fips',\n",
       " 'lat',\n",
       " 'lon',\n",
       " 'elevation',\n",
       " 'mean_temp',\n",
       " 'wind_speed',\n",
       " 'wind_gust',\n",
       " 'precipitation']"
      ]
     },
     "execution_count": 74,
     "metadata": {},
     "output_type": "execute_result"
    }
   ],
   "source": [
    "#renaming columns \n",
    "bee_temp2 = bee_temp2.rename(columns = {'individualCount':'bee_count','associatedTaxa':'plant',\n",
    "                                       'state_left': 'state', 'county_left': 'county', \n",
    "                                       'ELEV_M': 'elevation'})\n",
    "list(bee_temp2)"
   ]
  },
  {
   "cell_type": "code",
   "execution_count": 83,
   "metadata": {},
   "outputs": [
    {
     "name": "stderr",
     "output_type": "stream",
     "text": [
      "No handles with labels found to put in legend.\n"
     ]
    },
    {
     "data": {
      "text/plain": [
       "<matplotlib.legend.Legend at 0x7ff6c41f9820>"
      ]
     },
     "execution_count": 83,
     "metadata": {},
     "output_type": "execute_result"
    },
    {
     "data": {
      "image/png": "[encoded data removed]",
      "text/plain": [
       "<Figure size 432x288 with 2 Axes>"
      ]
     },
     "metadata": {
      "needs_background": "light"
     },
     "output_type": "display_data"
    }
   ],
   "source": [
    "#spatial representation of bee counts\n",
    "bee_temp2.plot(kind = \"scatter\", x =\"Longitude\", y = 'Latitude', alpha = 0.4,\n",
    "              c = 'bee_count', cmap=plt.get_cmap(\"jet\"), colorbar= True,)\n",
    "plt.legend()"
   ]
  },
  {
   "cell_type": "code",
   "execution_count": 88,
   "metadata": {},
   "outputs": [
    {
     "data": {
      "text/plain": [
       "bee_count  plant                  \n",
       "0          Cirsium sp.                9\n",
       "           Epilobium angustifolium    5\n",
       "           Liatris sp.                1\n",
       "           Lupinus sp.                1\n",
       "           Monardella sp.             1\n",
       "                                     ..\n",
       "71         Cirsium sp.                1\n",
       "73         Cirsium sp.                2\n",
       "93         Cirsium sp.                1\n",
       "100        Cirsium sp.                1\n",
       "106        Cirsium sp.                1\n",
       "Name: plant, Length: 155, dtype: int64"
      ]
     },
     "execution_count": 88,
     "metadata": {},
     "output_type": "execute_result"
    }
   ],
   "source": [
    "#what is the unique values of plant types (associatedTaxa) for each counts of bumble bees\n",
    "bee_temp2.groupby('bee_count').plant.value_counts()"
   ]
  },
  {
   "cell_type": "markdown",
   "metadata": {},
   "source": [
    "## How does each of the features correlate with the target variable (bee_count)"
   ]
  },
  {
   "cell_type": "code",
   "execution_count": 86,
   "metadata": {},
   "outputs": [
    {
     "data": {
      "text/plain": [
       "bee_count        1.000000\n",
       "Longitude        0.322065\n",
       "mean_temp        0.032530\n",
       "year             0.004751\n",
       "month            0.003507\n",
       "precipitation    0.002273\n",
       "lon             -0.008857\n",
       "wind_speed      -0.011115\n",
       "elevation       -0.016689\n",
       "wind_gust       -0.029489\n",
       "lat             -0.035544\n",
       "Latitude        -0.100989\n",
       "Name: bee_count, dtype: float64"
      ]
     },
     "execution_count": 86,
     "metadata": {},
     "output_type": "execute_result"
    }
   ],
   "source": [
    "corr_matrix = bee_temp2.corr()\n",
    "corr_matrix['bee_count'].sort_values(ascending=False)"
   ]
  },
  {
   "cell_type": "code",
   "execution_count": 87,
   "metadata": {},
   "outputs": [],
   "source": [
    "#dropping lat and long because they are redundant\n",
    "bee_temp2 = bee_temp2.drop(['lat', 'lon'], axis = 1) "
   ]
  },
  {
   "cell_type": "code",
   "execution_count": 75,
   "metadata": {},
   "outputs": [
    {
     "data": {
      "text/plain": [
       "bee_count         False\n",
       "plant              True\n",
       "year              False\n",
       "month             False\n",
       "state             False\n",
       "county            False\n",
       "Latitude          False\n",
       "Longitude         False\n",
       "scientificName    False\n",
       "fips              False\n",
       "lat               False\n",
       "lon               False\n",
       "elevation         False\n",
       "mean_temp          True\n",
       "wind_speed         True\n",
       "wind_gust          True\n",
       "precipitation      True\n",
       "dtype: bool"
      ]
     },
     "execution_count": 75,
     "metadata": {},
     "output_type": "execute_result"
    }
   ],
   "source": [
    "#Are there missing values in any of our columns\n",
    "pd.isnull(bee_temp2).any()"
   ]
  },
  {
   "cell_type": "markdown",
   "metadata": {},
   "source": [
    "## Correcting for missing values (imputation): this is done for the plant categorical variable. Imputation for the integer variables will be done with pycaret in model estimation phase"
   ]
  },
  {
   "cell_type": "code",
   "execution_count": 79,
   "metadata": {},
   "outputs": [],
   "source": [
    "#checking for the mode in the plant column\n",
    "bee_temp2[\"plant\"].value_counts() # most frequent occuring plant is Cirsium sp.\n",
    "#filling the missing values in the plant column with the mode\n",
    "bee_temp2 = bee_temp2.fillna({\"plant\": \"Cirsium sp.\"})"
   ]
  },
  {
   "cell_type": "markdown",
   "metadata": {},
   "source": [
    "## Using SMOGN to correct for oversampling at lower values of bee counts"
   ]
  },
  {
   "cell_type": "code",
   "execution_count": 90,
   "metadata": {},
   "outputs": [],
   "source": [
    "import smogn"
   ]
  },
  {
   "cell_type": "code",
   "execution_count": 91,
   "metadata": {},
   "outputs": [
    {
     "name": "stderr",
     "output_type": "stream",
     "text": [
      "/Users/ericasa1/opt/anaconda3/envs/insight/lib/python3.8/site-packages/smogn/phi.py:81: RuntimeWarning: divide by zero encountered in double_scalars\n",
      "  delta.append((y_rel[i + 1] - y_rel[i]) / h[i])\n",
      "dist_matrix: 100%|##########| 17/17 [00:00<00:00, 63.89it/s]\n",
      "synth_matrix: 100%|##########| 17/17 [00:23<00:00,  1.38s/it]\n",
      "r_index: 100%|##########| 6/6 [00:00<00:00, 149.10it/s]\n"
     ]
    }
   ],
   "source": [
    "## specify phi relevance values\n",
    "\n",
    "bee_temp_smogn = smogn.smoter(\n",
    "\n",
    "    data = bee_temp2, \n",
    "    y = \"bee_count\",\n",
    "    k = 3,                    ## positive integer (k < n)\n",
    "    samp_method = 'balance',  ## string ('balance' or 'extreme')\n",
    "\n",
    "    ## phi relevance arguments\n",
    "    rel_thres = 0.5,         ## positive real number (0 < R < 1)\n",
    "    rel_method = 'auto',      ## string ('auto' or 'manual')\n",
    "    rel_xtrm_type = 'high',   ## string ('low' or 'both' or 'high')\n",
    ")\n"
   ]
  },
  {
   "cell_type": "code",
   "execution_count": 95,
   "metadata": {},
   "outputs": [
    {
     "data": {
      "text/plain": [
       "1      9594\n",
       "2       101\n",
       "3        50\n",
       "4        41\n",
       "5        33\n",
       "       ... \n",
       "58        1\n",
       "106       1\n",
       "28        1\n",
       "67        1\n",
       "71        1\n",
       "Name: bee_count, Length: 68, dtype: int64"
      ]
     },
     "execution_count": 95,
     "metadata": {},
     "output_type": "execute_result"
    }
   ],
   "source": [
    "#Checking for the distribution of the bee_counts post and prior smogn\n",
    "bee_temp_smogn[\"bee_count\"].value_counts()\n",
    "bee_temp2[\"bee_count\"].value_counts()"
   ]
  },
  {
   "cell_type": "code",
   "execution_count": 96,
   "metadata": {},
   "outputs": [
    {
     "name": "stderr",
     "output_type": "stream",
     "text": [
      "No handles with labels found to put in legend.\n"
     ]
    },
    {
     "data": {
      "text/plain": [
       "<matplotlib.legend.Legend at 0x7ff6c561d940>"
      ]
     },
     "execution_count": 96,
     "metadata": {},
     "output_type": "execute_result"
    },
    {
     "data": {
      "image/png": "[encoded data removed]",
      "text/plain": [
       "<Figure size 432x288 with 2 Axes>"
      ]
     },
     "metadata": {
      "needs_background": "light"
     },
     "output_type": "display_data"
    }
   ],
   "source": [
    "#spatial representation of bee counts after smogn\n",
    "bee_temp_smogn.plot(kind = \"scatter\", x =\"Longitude\", y = 'Latitude', alpha = 0.4,\n",
    "              c = 'bee_count', cmap=plt.get_cmap(\"jet\"), colorbar= True,)\n",
    "plt.legend()"
   ]
  },
  {
   "cell_type": "code",
   "execution_count": 97,
   "metadata": {},
   "outputs": [
    {
     "data": {
      "text/plain": [
       "bee_count    1.000000\n",
       "Longitude    0.293604\n",
       "year         0.061302\n",
       "month        0.012545\n",
       "elevation    0.003054\n",
       "Latitude    -0.089281\n",
       "Name: bee_count, dtype: float64"
      ]
     },
     "execution_count": 97,
     "metadata": {},
     "output_type": "execute_result"
    }
   ],
   "source": [
    "#Correlations between target variable (bee_count) and numerical features after smogn\n",
    "corr_matrix = bee_temp_smogn.corr()\n",
    "corr_matrix['bee_count'].sort_values(ascending=False)"
   ]
  },
  {
   "cell_type": "markdown",
   "metadata": {},
   "source": [
    "## Saving the cleaned dataset to the cleaned folder for further analysis\n"
   ]
  },
  {
   "cell_type": "code",
   "execution_count": 89,
   "metadata": {},
   "outputs": [],
   "source": [
    "#saving a copy of raw dateset into the processed folder\n",
    "bee_temp2.to_csv(\"../data/cleaned/bee_temp_cleaned.csv\")"
   ]
  },
  {
   "cell_type": "code",
   "execution_count": 150,
   "metadata": {},
   "outputs": [
    {
     "data": {
      "text/plain": [
       "(array([1.0075e+04, 6.3000e+01, 2.5000e+01, 1.3000e+01, 8.0000e+00,\n",
       "        5.0000e+00, 3.0000e+00, 0.0000e+00, 0.0000e+00, 2.0000e+00]),\n",
       " array([  0. ,  10.6,  21.2,  31.8,  42.4,  53. ,  63.6,  74.2,  84.8,\n",
       "         95.4, 106. ]),\n",
       " <a list of 10 Patch objects>)"
      ]
     },
     "execution_count": 150,
     "metadata": {},
     "output_type": "execute_result"
    },
    {
     "data": {
      "image/png": "[encoded data removed]",
      "text/plain": [
       "<Figure size 432x288 with 1 Axes>"
      ]
     },
     "metadata": {
      "needs_background": "light"
     },
     "output_type": "display_data"
    }
   ],
   "source": [
    "bumble_bee_smogn.to_csv('../data/cleaned/3cleaned_smogn.csv')\n",
    "plt.hist(bumble_bee_smogn['bee_count'])\n",
    "#bumble_bee_smogn['bee_count'].value_counts()"
   ]
  }
 ],
 "metadata": {
  "kernelspec": {
   "display_name": "Python 3",
   "language": "python",
   "name": "python3"
  },
  "language_info": {
   "codemirror_mode": {
    "name": "ipython",
    "version": 3
   },
   "file_extension": ".py",
   "mimetype": "text/x-python",
   "name": "python",
   "nbconvert_exporter": "python",
   "pygments_lexer": "ipython3",
   "version": "3.8.2"
  }
 },
 "nbformat": 4,
 "nbformat_minor": 4
}
