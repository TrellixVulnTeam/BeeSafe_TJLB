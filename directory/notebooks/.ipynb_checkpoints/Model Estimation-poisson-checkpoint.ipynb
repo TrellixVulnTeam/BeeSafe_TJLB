{
 "cells": [
  {
   "cell_type": "markdown",
   "metadata": {},
   "source": [
    "## Import the Relevant libraries for analysis"
   ]
  },
  {
   "cell_type": "code",
   "execution_count": 46,
   "metadata": {},
   "outputs": [],
   "source": [
    "import pycaret\n",
    "import pandas as pd\n",
    "import csv\n",
    "import matplotlib.pyplot as plt\n",
    "%matplotlib inline\n",
    "import os"
   ]
  },
  {
   "cell_type": "code",
   "execution_count": 166,
   "metadata": {},
   "outputs": [
    {
     "data": {
      "text/plain": [
       "['Unnamed: 0',\n",
       " 'bee_count',\n",
       " 'plant',\n",
       " 'year',\n",
       " 'month',\n",
       " 'state',\n",
       " 'county',\n",
       " 'Latitude',\n",
       " 'Longitude',\n",
       " 'scientificName',\n",
       " 'fips',\n",
       " 'elevation',\n",
       " 'mean_temp',\n",
       " 'wind_speed',\n",
       " 'wind_gust',\n",
       " 'precipitation']"
      ]
     },
     "execution_count": 166,
     "metadata": {},
     "output_type": "execute_result"
    }
   ],
   "source": [
    "#0rginal data downloaded twice for different model explorations\n",
    "bee_cleaned = pd.read_csv(\"../data/cleaned/bee_temp_cleaned.csv\")\n",
    "bee_cleaned2 = pd.read_csv(\"../data/cleaned/bee_temp_cleaned.csv\")\n",
    "list(bee_cleaned2)"
   ]
  },
  {
   "cell_type": "code",
   "execution_count": 167,
   "metadata": {
    "scrolled": true
   },
   "outputs": [
    {
     "data": {
      "text/plain": [
       "['bee_count',\n",
       " 'plant',\n",
       " 'year',\n",
       " 'month',\n",
       " 'state',\n",
       " 'county',\n",
       " 'fips',\n",
       " 'mean_temp',\n",
       " 'wind_speed',\n",
       " 'wind_gust',\n",
       " 'precipitation']"
      ]
     },
     "execution_count": 167,
     "metadata": {},
     "output_type": "execute_result"
    }
   ],
   "source": [
    "#Keeping only bee count and plant hosts for feature selection \n",
    "bee_cleaned2 = bee_cleaned2.drop(['Unnamed: 0','Latitude', 'Longitude', 'scientificName','elevation'], axis = 1) \n",
    "list(bee_cleaned2)"
   ]
  },
  {
   "cell_type": "code",
   "execution_count": 168,
   "metadata": {},
   "outputs": [],
   "source": [
    "#getting dummies for each plant host\n",
    "#bee_cleaned2 = pd.get_dummies(bee_cleaned2, columns = ['plant'])"
   ]
  },
  {
   "cell_type": "code",
   "execution_count": 169,
   "metadata": {},
   "outputs": [
    {
     "data": {
      "text/plain": [
       "(10211, 11)"
      ]
     },
     "execution_count": 169,
     "metadata": {},
     "output_type": "execute_result"
    }
   ],
   "source": [
    "bee_cleaned2.shape"
   ]
  },
  {
   "cell_type": "code",
   "execution_count": 170,
   "metadata": {},
   "outputs": [
    {
     "data": {
      "text/html": [
       "<div>\n",
       "<style scoped>\n",
       "    .dataframe tbody tr th:only-of-type {\n",
       "        vertical-align: middle;\n",
       "    }\n",
       "\n",
       "    .dataframe tbody tr th {\n",
       "        vertical-align: top;\n",
       "    }\n",
       "\n",
       "    .dataframe thead th {\n",
       "        text-align: right;\n",
       "    }\n",
       "</style>\n",
       "<table border=\"1\" class=\"dataframe\">\n",
       "  <thead>\n",
       "    <tr style=\"text-align: right;\">\n",
       "      <th></th>\n",
       "      <th>bee_count</th>\n",
       "      <th>plant</th>\n",
       "      <th>year</th>\n",
       "      <th>month</th>\n",
       "      <th>state</th>\n",
       "      <th>county</th>\n",
       "      <th>fips</th>\n",
       "      <th>mean_temp</th>\n",
       "      <th>wind_speed</th>\n",
       "      <th>wind_gust</th>\n",
       "      <th>precipitation</th>\n",
       "    </tr>\n",
       "  </thead>\n",
       "  <tbody>\n",
       "    <tr>\n",
       "      <th>0</th>\n",
       "      <td>1</td>\n",
       "      <td>Cirsium sp.</td>\n",
       "      <td>2009</td>\n",
       "      <td>6</td>\n",
       "      <td>Alabama</td>\n",
       "      <td>Bibb</td>\n",
       "      <td>53061</td>\n",
       "      <td>44.1</td>\n",
       "      <td>8.3</td>\n",
       "      <td>28.0</td>\n",
       "      <td>0.00</td>\n",
       "    </tr>\n",
       "    <tr>\n",
       "      <th>1</th>\n",
       "      <td>1</td>\n",
       "      <td>Cirsium sp.</td>\n",
       "      <td>2009</td>\n",
       "      <td>6</td>\n",
       "      <td>Alabama</td>\n",
       "      <td>Dallas</td>\n",
       "      <td>53061</td>\n",
       "      <td>44.8</td>\n",
       "      <td>13.2</td>\n",
       "      <td>26.0</td>\n",
       "      <td>0.29</td>\n",
       "    </tr>\n",
       "    <tr>\n",
       "      <th>2</th>\n",
       "      <td>5</td>\n",
       "      <td>Cirsium sp.</td>\n",
       "      <td>2008</td>\n",
       "      <td>7</td>\n",
       "      <td>Arkansas</td>\n",
       "      <td>Benton</td>\n",
       "      <td>53061</td>\n",
       "      <td>49.9</td>\n",
       "      <td>12.0</td>\n",
       "      <td>26.0</td>\n",
       "      <td>0.54</td>\n",
       "    </tr>\n",
       "    <tr>\n",
       "      <th>3</th>\n",
       "      <td>1</td>\n",
       "      <td>Cirsium sp.</td>\n",
       "      <td>2008</td>\n",
       "      <td>7</td>\n",
       "      <td>Arkansas</td>\n",
       "      <td>Washington</td>\n",
       "      <td>17031</td>\n",
       "      <td>36.1</td>\n",
       "      <td>4.8</td>\n",
       "      <td>NaN</td>\n",
       "      <td>0.16</td>\n",
       "    </tr>\n",
       "    <tr>\n",
       "      <th>4</th>\n",
       "      <td>10</td>\n",
       "      <td>Cirsium sp.</td>\n",
       "      <td>2009</td>\n",
       "      <td>8</td>\n",
       "      <td>Illinois</td>\n",
       "      <td>Champaign</td>\n",
       "      <td>53061</td>\n",
       "      <td>51.5</td>\n",
       "      <td>13.0</td>\n",
       "      <td>28.0</td>\n",
       "      <td>0.32</td>\n",
       "    </tr>\n",
       "  </tbody>\n",
       "</table>\n",
       "</div>"
      ],
      "text/plain": [
       "   bee_count        plant  year  month     state      county   fips  \\\n",
       "0          1  Cirsium sp.  2009      6   Alabama        Bibb  53061   \n",
       "1          1  Cirsium sp.  2009      6   Alabama      Dallas  53061   \n",
       "2          5  Cirsium sp.  2008      7  Arkansas      Benton  53061   \n",
       "3          1  Cirsium sp.  2008      7  Arkansas  Washington  17031   \n",
       "4         10  Cirsium sp.  2009      8  Illinois   Champaign  53061   \n",
       "\n",
       "   mean_temp  wind_speed  wind_gust  precipitation  \n",
       "0       44.1         8.3       28.0           0.00  \n",
       "1       44.8        13.2       26.0           0.29  \n",
       "2       49.9        12.0       26.0           0.54  \n",
       "3       36.1         4.8        NaN           0.16  \n",
       "4       51.5        13.0       28.0           0.32  "
      ]
     },
     "execution_count": 170,
     "metadata": {},
     "output_type": "execute_result"
    }
   ],
   "source": [
    "bee_cleaned2.head()"
   ]
  },
  {
   "cell_type": "code",
   "execution_count": 171,
   "metadata": {},
   "outputs": [
    {
     "data": {
      "text/plain": [
       "bee_count          int64\n",
       "plant             object\n",
       "year               int64\n",
       "month              int64\n",
       "state             object\n",
       "county            object\n",
       "fips             float64\n",
       "mean_temp        float64\n",
       "wind_speed       float64\n",
       "wind_gust        float64\n",
       "precipitation    float64\n",
       "dtype: object"
      ]
     },
     "execution_count": 171,
     "metadata": {},
     "output_type": "execute_result"
    }
   ],
   "source": [
    "# convert column \"a\" of a DataFrame\n",
    "bee_cleaned2[\"fips\"] = pd.to_numeric(bee_cleaned2[\"fips\"], errors='coerce')\n",
    "bee_cleaned2.dtypes"
   ]
  },
  {
   "cell_type": "code",
   "execution_count": 251,
   "metadata": {},
   "outputs": [],
   "source": [
    "bee_cleaned2.to_csv('../data/cleaned/processed_cleaned_original.csv')"
   ]
  },
  {
   "cell_type": "code",
   "execution_count": 172,
   "metadata": {},
   "outputs": [],
   "source": [
    "df1 = bee_cleaned2"
   ]
  },
  {
   "cell_type": "code",
   "execution_count": 173,
   "metadata": {},
   "outputs": [],
   "source": [
    "#df1=df1.dropna()\n",
    "#df1.shape"
   ]
  },
  {
   "cell_type": "code",
   "execution_count": 174,
   "metadata": {},
   "outputs": [],
   "source": [
    "plant_label = { ni: n for n, ni in enumerate(set(bee_cleaned2['plant']))}\n",
    "state_label = { ni: n for n, ni in enumerate(set(bee_cleaned2['state']))}\n",
    "year_label = { ni: n for n, ni in enumerate(set(bee_cleaned2['year']))}\n",
    "county_label = { ni: n for n, ni in enumerate(set(bee_cleaned2['county']))}"
   ]
  },
  {
   "cell_type": "code",
   "execution_count": 175,
   "metadata": {},
   "outputs": [
    {
     "data": {
      "text/plain": [
       "{'Umatilla': 0,\n",
       " 'Butler': 1,\n",
       " 'Wasatch': 2,\n",
       " 'Berkshire': 3,\n",
       " 'Pulaski': 4,\n",
       " 'Clarke': 5,\n",
       " 'Mahaska': 6,\n",
       " 'Rush': 7,\n",
       " 'Cleveland': 8,\n",
       " 'Middlesex': 9,\n",
       " 'Stanley': 10,\n",
       " 'Spokane': 11,\n",
       " 'Grant': 12,\n",
       " 'Yakima': 13,\n",
       " 'Lincoln': 14,\n",
       " 'Trinity': 15,\n",
       " 'Suffolk': 16,\n",
       " 'Murray': 17,\n",
       " 'Windham': 18,\n",
       " 'Dane': 19,\n",
       " 'Lawrence': 20,\n",
       " 'Snohomish': 21,\n",
       " 'Trigg': 22,\n",
       " 'Henry': 23,\n",
       " 'Adair': 24,\n",
       " 'McCormick': 25,\n",
       " 'Hartford': 26,\n",
       " 'Lee': 27,\n",
       " 'Baker': 28,\n",
       " 'Linn': 29,\n",
       " 'Chelan': 30,\n",
       " 'Wayne': 31,\n",
       " 'Jackson': 32,\n",
       " 'Weston': 33,\n",
       " 'Chesterfield': 34,\n",
       " 'Johnson': 35,\n",
       " 'Missoula': 36,\n",
       " 'Dubois': 37,\n",
       " 'Bryan': 38,\n",
       " 'Cocke': 39,\n",
       " 'Fremont': 40,\n",
       " 'San Juan': 41,\n",
       " 'Ottawa': 42,\n",
       " 'Saint Louis': 43,\n",
       " 'Comanche': 44,\n",
       " 'Union': 45,\n",
       " 'Benton': 46,\n",
       " 'Orange': 47,\n",
       " 'Idaho': 48,\n",
       " 'Guilford': 49,\n",
       " 'Otero': 50,\n",
       " 'Yancey': 51,\n",
       " 'Scott': 52,\n",
       " 'Centre': 53,\n",
       " 'Ogle': 54,\n",
       " 'Appomattox': 55,\n",
       " 'Harlan': 56,\n",
       " 'Custer': 57,\n",
       " 'Emmons': 58,\n",
       " 'Winona': 59,\n",
       " 'Ouray': 60,\n",
       " 'Stokes': 61,\n",
       " 'Dee rLodge Anaconda': 62,\n",
       " 'Hood River': 63,\n",
       " 'Josephine': 64,\n",
       " 'Elko': 65,\n",
       " 'Teton': 66,\n",
       " 'Coos': 67,\n",
       " 'Torrance': 68,\n",
       " 'North Slope': 69,\n",
       " 'Marin': 70,\n",
       " 'Boulder': 71,\n",
       " 'Daggett': 72,\n",
       " 'Big Horn': 73,\n",
       " 'Pope': 74,\n",
       " 'Hampshire': 75,\n",
       " 'Osage': 76,\n",
       " 'Clallam': 77,\n",
       " 'Tolland': 78,\n",
       " 'Park': 79,\n",
       " 'Le Sueur': 80,\n",
       " 'Boundary': 81,\n",
       " 'Summit': 82,\n",
       " 'Flathead': 83,\n",
       " 'Travis': 84,\n",
       " 'Cameron': 85,\n",
       " 'Sandoval': 86,\n",
       " 'Carbon': 87,\n",
       " 'Yukon-Koyukuk': 88,\n",
       " 'Marion': 89,\n",
       " 'Matanuska-Susitna': 90,\n",
       " 'El Paso': 91,\n",
       " 'Dallas': 92,\n",
       " 'Miami': 93,\n",
       " 'Niagara': 94,\n",
       " 'McDowell': 95,\n",
       " 'Klamath': 96,\n",
       " 'San Francisco': 97,\n",
       " 'Whatcom': 98,\n",
       " 'Williamson': 99,\n",
       " 'Eastland': 100,\n",
       " 'McPherson': 101,\n",
       " 'Chaffee': 102,\n",
       " 'Kershaw': 103,\n",
       " 'Lyon': 104,\n",
       " 'Clayton': 105,\n",
       " 'Galveston': 106,\n",
       " 'Clackamas': 107,\n",
       " 'Piatt': 108,\n",
       " 'Monroe': 109,\n",
       " 'Douglas': 110,\n",
       " 'Salt Lake': 111,\n",
       " 'Arkansas': 112,\n",
       " 'Lake': 113,\n",
       " 'Whitman': 114,\n",
       " 'Macon': 115,\n",
       " 'Laurens': 116,\n",
       " 'Cass': 117,\n",
       " 'King': 118,\n",
       " 'Bastrop': 119,\n",
       " 'Sierra': 120,\n",
       " 'Siskiyou': 121,\n",
       " 'Macoupin': 122,\n",
       " 'Bibb': 123,\n",
       " 'Foster': 124,\n",
       " 'Washington': 125,\n",
       " 'Anson': 126,\n",
       " 'Ripley': 127,\n",
       " 'Socorro': 128,\n",
       " 'Carroll': 129,\n",
       " 'Floyd': 130,\n",
       " 'Jefferson': 131,\n",
       " 'Ravalli': 132,\n",
       " 'Champaign': 133,\n",
       " 'McCracken': 134,\n",
       " 'Utah': 135,\n",
       " 'Kingsbury': 136,\n",
       " 'Teller': 137,\n",
       " 'Keokuk': 138,\n",
       " 'Christian': 139,\n",
       " 'Blount': 140,\n",
       " 'Kenai Peninsula': 141,\n",
       " 'Sheridan': 142,\n",
       " 'Lancaster': 143,\n",
       " 'Thurston': 144,\n",
       " 'Gallatin': 145,\n",
       " 'Harrison': 146,\n",
       " 'Cache': 147,\n",
       " 'Wallowa': 148,\n",
       " 'Belmont': 149,\n",
       " 'Lewis': 150,\n",
       " 'Apache': 151,\n",
       " 'Cascade': 152,\n",
       " 'Lycoming': 153,\n",
       " 'Clay': 154,\n",
       " 'Putnam': 155,\n",
       " 'Morris': 156,\n",
       " 'Peoria': 157,\n",
       " 'Franklin': 158,\n",
       " 'Windsor': 159,\n",
       " 'Cook': 160,\n",
       " 'Platte': 161,\n",
       " 'Okanogan': 162,\n",
       " 'Botetourt': 163,\n",
       " 'Sauk': 164,\n",
       " 'Washakie': 165,\n",
       " 'Turner': 166,\n",
       " 'Walker': 167,\n",
       " 'Dutchess': 168,\n",
       " 'Adams': 169,\n",
       " 'Montgomery': 170,\n",
       " 'Tillamook': 171,\n",
       " 'Gunnison': 172,\n",
       " 'Houston': 173,\n",
       " 'Asotin': 174,\n",
       " 'Mobile': 175,\n",
       " 'Columbia': 176,\n",
       " 'Howard': 177,\n",
       " 'Goodhue': 178,\n",
       " 'Valdez-Cordova': 179,\n",
       " 'Saint Charles': 180,\n",
       " 'Essex': 181,\n",
       " 'Anchorage': 182,\n",
       " 'Seneca': 183,\n",
       " 'Scotland': 184,\n",
       " 'Callaway': 185,\n",
       " 'Garfield': 186,\n",
       " 'Bienville': 187,\n",
       " 'Norfolk': 188,\n",
       " 'Skagit': 189,\n",
       " 'Bonner': 190,\n",
       " 'Shasta': 191,\n",
       " 'Hancock': 192,\n",
       " 'Crawford': 193,\n",
       " 'McLean': 194,\n",
       " 'Boone': 195,\n",
       " 'Box Elder': 196,\n",
       " 'Larimer': 197,\n",
       " 'Polk': 198,\n",
       " 'Deschutes': 199,\n",
       " 'Burke': 200,\n",
       " 'Mason': 201,\n",
       " 'Nevada': 202,\n",
       " 'Lane': 203,\n",
       " 'Nicollet': 204,\n",
       " 'Fairbanks North Star': 205,\n",
       " 'Cherokee': 206,\n",
       " 'Pacific': 207,\n",
       " 'Albany': 208,\n",
       " 'Bossier': 209,\n",
       " 'Southeast Fairbanks': 210}"
      ]
     },
     "execution_count": 175,
     "metadata": {},
     "output_type": "execute_result"
    }
   ],
   "source": [
    "county_label\n"
   ]
  },
  {
   "cell_type": "code",
   "execution_count": 176,
   "metadata": {},
   "outputs": [],
   "source": [
    "df1['plant'] = df1['plant'].map(plant_label) \n",
    "#df1['state'] = df1['state'].map(state_label) \n",
    "#df1['county'] = df1['county'].map(county_label) \n",
    "#df1['year'] = df1['year'].map(year_label) "
   ]
  },
  {
   "cell_type": "code",
   "execution_count": 177,
   "metadata": {},
   "outputs": [
    {
     "data": {
      "text/html": [
       "<div>\n",
       "<style scoped>\n",
       "    .dataframe tbody tr th:only-of-type {\n",
       "        vertical-align: middle;\n",
       "    }\n",
       "\n",
       "    .dataframe tbody tr th {\n",
       "        vertical-align: top;\n",
       "    }\n",
       "\n",
       "    .dataframe thead th {\n",
       "        text-align: right;\n",
       "    }\n",
       "</style>\n",
       "<table border=\"1\" class=\"dataframe\">\n",
       "  <thead>\n",
       "    <tr style=\"text-align: right;\">\n",
       "      <th></th>\n",
       "      <th>bee_count</th>\n",
       "      <th>plant</th>\n",
       "      <th>year</th>\n",
       "      <th>month</th>\n",
       "      <th>state</th>\n",
       "      <th>county</th>\n",
       "      <th>fips</th>\n",
       "      <th>mean_temp</th>\n",
       "      <th>wind_speed</th>\n",
       "      <th>wind_gust</th>\n",
       "      <th>precipitation</th>\n",
       "    </tr>\n",
       "  </thead>\n",
       "  <tbody>\n",
       "    <tr>\n",
       "      <th>0</th>\n",
       "      <td>1</td>\n",
       "      <td>63</td>\n",
       "      <td>2009</td>\n",
       "      <td>6</td>\n",
       "      <td>Alabama</td>\n",
       "      <td>Bibb</td>\n",
       "      <td>53061.0</td>\n",
       "      <td>44.1</td>\n",
       "      <td>8.3</td>\n",
       "      <td>28.0</td>\n",
       "      <td>0.00</td>\n",
       "    </tr>\n",
       "    <tr>\n",
       "      <th>1</th>\n",
       "      <td>1</td>\n",
       "      <td>63</td>\n",
       "      <td>2009</td>\n",
       "      <td>6</td>\n",
       "      <td>Alabama</td>\n",
       "      <td>Dallas</td>\n",
       "      <td>53061.0</td>\n",
       "      <td>44.8</td>\n",
       "      <td>13.2</td>\n",
       "      <td>26.0</td>\n",
       "      <td>0.29</td>\n",
       "    </tr>\n",
       "    <tr>\n",
       "      <th>2</th>\n",
       "      <td>5</td>\n",
       "      <td>63</td>\n",
       "      <td>2008</td>\n",
       "      <td>7</td>\n",
       "      <td>Arkansas</td>\n",
       "      <td>Benton</td>\n",
       "      <td>53061.0</td>\n",
       "      <td>49.9</td>\n",
       "      <td>12.0</td>\n",
       "      <td>26.0</td>\n",
       "      <td>0.54</td>\n",
       "    </tr>\n",
       "    <tr>\n",
       "      <th>3</th>\n",
       "      <td>1</td>\n",
       "      <td>63</td>\n",
       "      <td>2008</td>\n",
       "      <td>7</td>\n",
       "      <td>Arkansas</td>\n",
       "      <td>Washington</td>\n",
       "      <td>17031.0</td>\n",
       "      <td>36.1</td>\n",
       "      <td>4.8</td>\n",
       "      <td>NaN</td>\n",
       "      <td>0.16</td>\n",
       "    </tr>\n",
       "    <tr>\n",
       "      <th>4</th>\n",
       "      <td>10</td>\n",
       "      <td>63</td>\n",
       "      <td>2009</td>\n",
       "      <td>8</td>\n",
       "      <td>Illinois</td>\n",
       "      <td>Champaign</td>\n",
       "      <td>53061.0</td>\n",
       "      <td>51.5</td>\n",
       "      <td>13.0</td>\n",
       "      <td>28.0</td>\n",
       "      <td>0.32</td>\n",
       "    </tr>\n",
       "  </tbody>\n",
       "</table>\n",
       "</div>"
      ],
      "text/plain": [
       "   bee_count  plant  year  month     state      county     fips  mean_temp  \\\n",
       "0          1     63  2009      6   Alabama        Bibb  53061.0       44.1   \n",
       "1          1     63  2009      6   Alabama      Dallas  53061.0       44.8   \n",
       "2          5     63  2008      7  Arkansas      Benton  53061.0       49.9   \n",
       "3          1     63  2008      7  Arkansas  Washington  17031.0       36.1   \n",
       "4         10     63  2009      8  Illinois   Champaign  53061.0       51.5   \n",
       "\n",
       "   wind_speed  wind_gust  precipitation  \n",
       "0         8.3       28.0           0.00  \n",
       "1        13.2       26.0           0.29  \n",
       "2        12.0       26.0           0.54  \n",
       "3         4.8        NaN           0.16  \n",
       "4        13.0       28.0           0.32  "
      ]
     },
     "execution_count": 177,
     "metadata": {},
     "output_type": "execute_result"
    }
   ],
   "source": [
    "df1.head()"
   ]
  },
  {
   "cell_type": "code",
   "execution_count": 178,
   "metadata": {},
   "outputs": [],
   "source": [
    "df1['state'] = df1['state'].map(state_label) \n"
   ]
  },
  {
   "cell_type": "code",
   "execution_count": 179,
   "metadata": {},
   "outputs": [
    {
     "data": {
      "text/html": [
       "<div>\n",
       "<style scoped>\n",
       "    .dataframe tbody tr th:only-of-type {\n",
       "        vertical-align: middle;\n",
       "    }\n",
       "\n",
       "    .dataframe tbody tr th {\n",
       "        vertical-align: top;\n",
       "    }\n",
       "\n",
       "    .dataframe thead th {\n",
       "        text-align: right;\n",
       "    }\n",
       "</style>\n",
       "<table border=\"1\" class=\"dataframe\">\n",
       "  <thead>\n",
       "    <tr style=\"text-align: right;\">\n",
       "      <th></th>\n",
       "      <th>bee_count</th>\n",
       "      <th>plant</th>\n",
       "      <th>year</th>\n",
       "      <th>month</th>\n",
       "      <th>state</th>\n",
       "      <th>county</th>\n",
       "      <th>fips</th>\n",
       "      <th>mean_temp</th>\n",
       "      <th>wind_speed</th>\n",
       "      <th>wind_gust</th>\n",
       "      <th>precipitation</th>\n",
       "    </tr>\n",
       "  </thead>\n",
       "  <tbody>\n",
       "    <tr>\n",
       "      <th>0</th>\n",
       "      <td>1</td>\n",
       "      <td>63</td>\n",
       "      <td>2009</td>\n",
       "      <td>6</td>\n",
       "      <td>15</td>\n",
       "      <td>Bibb</td>\n",
       "      <td>53061.0</td>\n",
       "      <td>44.1</td>\n",
       "      <td>8.3</td>\n",
       "      <td>28.0</td>\n",
       "      <td>0.00</td>\n",
       "    </tr>\n",
       "    <tr>\n",
       "      <th>1</th>\n",
       "      <td>1</td>\n",
       "      <td>63</td>\n",
       "      <td>2009</td>\n",
       "      <td>6</td>\n",
       "      <td>15</td>\n",
       "      <td>Dallas</td>\n",
       "      <td>53061.0</td>\n",
       "      <td>44.8</td>\n",
       "      <td>13.2</td>\n",
       "      <td>26.0</td>\n",
       "      <td>0.29</td>\n",
       "    </tr>\n",
       "    <tr>\n",
       "      <th>2</th>\n",
       "      <td>5</td>\n",
       "      <td>63</td>\n",
       "      <td>2008</td>\n",
       "      <td>7</td>\n",
       "      <td>2</td>\n",
       "      <td>Benton</td>\n",
       "      <td>53061.0</td>\n",
       "      <td>49.9</td>\n",
       "      <td>12.0</td>\n",
       "      <td>26.0</td>\n",
       "      <td>0.54</td>\n",
       "    </tr>\n",
       "    <tr>\n",
       "      <th>3</th>\n",
       "      <td>1</td>\n",
       "      <td>63</td>\n",
       "      <td>2008</td>\n",
       "      <td>7</td>\n",
       "      <td>2</td>\n",
       "      <td>Washington</td>\n",
       "      <td>17031.0</td>\n",
       "      <td>36.1</td>\n",
       "      <td>4.8</td>\n",
       "      <td>NaN</td>\n",
       "      <td>0.16</td>\n",
       "    </tr>\n",
       "    <tr>\n",
       "      <th>4</th>\n",
       "      <td>10</td>\n",
       "      <td>63</td>\n",
       "      <td>2009</td>\n",
       "      <td>8</td>\n",
       "      <td>38</td>\n",
       "      <td>Champaign</td>\n",
       "      <td>53061.0</td>\n",
       "      <td>51.5</td>\n",
       "      <td>13.0</td>\n",
       "      <td>28.0</td>\n",
       "      <td>0.32</td>\n",
       "    </tr>\n",
       "  </tbody>\n",
       "</table>\n",
       "</div>"
      ],
      "text/plain": [
       "   bee_count  plant  year  month  state      county     fips  mean_temp  \\\n",
       "0          1     63  2009      6     15        Bibb  53061.0       44.1   \n",
       "1          1     63  2009      6     15      Dallas  53061.0       44.8   \n",
       "2          5     63  2008      7      2      Benton  53061.0       49.9   \n",
       "3          1     63  2008      7      2  Washington  17031.0       36.1   \n",
       "4         10     63  2009      8     38   Champaign  53061.0       51.5   \n",
       "\n",
       "   wind_speed  wind_gust  precipitation  \n",
       "0         8.3       28.0           0.00  \n",
       "1        13.2       26.0           0.29  \n",
       "2        12.0       26.0           0.54  \n",
       "3         4.8        NaN           0.16  \n",
       "4        13.0       28.0           0.32  "
      ]
     },
     "execution_count": 179,
     "metadata": {},
     "output_type": "execute_result"
    }
   ],
   "source": [
    "df1.head()"
   ]
  },
  {
   "cell_type": "code",
   "execution_count": 180,
   "metadata": {},
   "outputs": [],
   "source": [
    "df1['county'] = df1['county'].map(county_label) \n"
   ]
  },
  {
   "cell_type": "code",
   "execution_count": 181,
   "metadata": {},
   "outputs": [
    {
     "data": {
      "text/html": [
       "<div>\n",
       "<style scoped>\n",
       "    .dataframe tbody tr th:only-of-type {\n",
       "        vertical-align: middle;\n",
       "    }\n",
       "\n",
       "    .dataframe tbody tr th {\n",
       "        vertical-align: top;\n",
       "    }\n",
       "\n",
       "    .dataframe thead th {\n",
       "        text-align: right;\n",
       "    }\n",
       "</style>\n",
       "<table border=\"1\" class=\"dataframe\">\n",
       "  <thead>\n",
       "    <tr style=\"text-align: right;\">\n",
       "      <th></th>\n",
       "      <th>bee_count</th>\n",
       "      <th>plant</th>\n",
       "      <th>year</th>\n",
       "      <th>month</th>\n",
       "      <th>state</th>\n",
       "      <th>county</th>\n",
       "      <th>fips</th>\n",
       "      <th>mean_temp</th>\n",
       "      <th>wind_speed</th>\n",
       "      <th>wind_gust</th>\n",
       "      <th>precipitation</th>\n",
       "    </tr>\n",
       "  </thead>\n",
       "  <tbody>\n",
       "    <tr>\n",
       "      <th>0</th>\n",
       "      <td>1</td>\n",
       "      <td>63</td>\n",
       "      <td>2009</td>\n",
       "      <td>6</td>\n",
       "      <td>15</td>\n",
       "      <td>123</td>\n",
       "      <td>53061.0</td>\n",
       "      <td>44.1</td>\n",
       "      <td>8.3</td>\n",
       "      <td>28.0</td>\n",
       "      <td>0.00</td>\n",
       "    </tr>\n",
       "    <tr>\n",
       "      <th>1</th>\n",
       "      <td>1</td>\n",
       "      <td>63</td>\n",
       "      <td>2009</td>\n",
       "      <td>6</td>\n",
       "      <td>15</td>\n",
       "      <td>92</td>\n",
       "      <td>53061.0</td>\n",
       "      <td>44.8</td>\n",
       "      <td>13.2</td>\n",
       "      <td>26.0</td>\n",
       "      <td>0.29</td>\n",
       "    </tr>\n",
       "    <tr>\n",
       "      <th>2</th>\n",
       "      <td>5</td>\n",
       "      <td>63</td>\n",
       "      <td>2008</td>\n",
       "      <td>7</td>\n",
       "      <td>2</td>\n",
       "      <td>46</td>\n",
       "      <td>53061.0</td>\n",
       "      <td>49.9</td>\n",
       "      <td>12.0</td>\n",
       "      <td>26.0</td>\n",
       "      <td>0.54</td>\n",
       "    </tr>\n",
       "    <tr>\n",
       "      <th>3</th>\n",
       "      <td>1</td>\n",
       "      <td>63</td>\n",
       "      <td>2008</td>\n",
       "      <td>7</td>\n",
       "      <td>2</td>\n",
       "      <td>125</td>\n",
       "      <td>17031.0</td>\n",
       "      <td>36.1</td>\n",
       "      <td>4.8</td>\n",
       "      <td>NaN</td>\n",
       "      <td>0.16</td>\n",
       "    </tr>\n",
       "    <tr>\n",
       "      <th>4</th>\n",
       "      <td>10</td>\n",
       "      <td>63</td>\n",
       "      <td>2009</td>\n",
       "      <td>8</td>\n",
       "      <td>38</td>\n",
       "      <td>133</td>\n",
       "      <td>53061.0</td>\n",
       "      <td>51.5</td>\n",
       "      <td>13.0</td>\n",
       "      <td>28.0</td>\n",
       "      <td>0.32</td>\n",
       "    </tr>\n",
       "  </tbody>\n",
       "</table>\n",
       "</div>"
      ],
      "text/plain": [
       "   bee_count  plant  year  month  state  county     fips  mean_temp  \\\n",
       "0          1     63  2009      6     15     123  53061.0       44.1   \n",
       "1          1     63  2009      6     15      92  53061.0       44.8   \n",
       "2          5     63  2008      7      2      46  53061.0       49.9   \n",
       "3          1     63  2008      7      2     125  17031.0       36.1   \n",
       "4         10     63  2009      8     38     133  53061.0       51.5   \n",
       "\n",
       "   wind_speed  wind_gust  precipitation  \n",
       "0         8.3       28.0           0.00  \n",
       "1        13.2       26.0           0.29  \n",
       "2        12.0       26.0           0.54  \n",
       "3         4.8        NaN           0.16  \n",
       "4        13.0       28.0           0.32  "
      ]
     },
     "execution_count": 181,
     "metadata": {},
     "output_type": "execute_result"
    }
   ],
   "source": [
    "df1.head()"
   ]
  },
  {
   "cell_type": "code",
   "execution_count": 182,
   "metadata": {},
   "outputs": [],
   "source": [
    "df1['year'] = df1['year'].map(year_label) "
   ]
  },
  {
   "cell_type": "code",
   "execution_count": 183,
   "metadata": {},
   "outputs": [
    {
     "data": {
      "text/html": [
       "<div>\n",
       "<style scoped>\n",
       "    .dataframe tbody tr th:only-of-type {\n",
       "        vertical-align: middle;\n",
       "    }\n",
       "\n",
       "    .dataframe tbody tr th {\n",
       "        vertical-align: top;\n",
       "    }\n",
       "\n",
       "    .dataframe thead th {\n",
       "        text-align: right;\n",
       "    }\n",
       "</style>\n",
       "<table border=\"1\" class=\"dataframe\">\n",
       "  <thead>\n",
       "    <tr style=\"text-align: right;\">\n",
       "      <th></th>\n",
       "      <th>bee_count</th>\n",
       "      <th>plant</th>\n",
       "      <th>year</th>\n",
       "      <th>month</th>\n",
       "      <th>state</th>\n",
       "      <th>county</th>\n",
       "      <th>fips</th>\n",
       "      <th>mean_temp</th>\n",
       "      <th>wind_speed</th>\n",
       "      <th>wind_gust</th>\n",
       "      <th>precipitation</th>\n",
       "    </tr>\n",
       "  </thead>\n",
       "  <tbody>\n",
       "    <tr>\n",
       "      <th>0</th>\n",
       "      <td>1</td>\n",
       "      <td>63</td>\n",
       "      <td>1</td>\n",
       "      <td>6</td>\n",
       "      <td>15</td>\n",
       "      <td>123</td>\n",
       "      <td>53061.0</td>\n",
       "      <td>44.1</td>\n",
       "      <td>8.3</td>\n",
       "      <td>28.0</td>\n",
       "      <td>0.00</td>\n",
       "    </tr>\n",
       "    <tr>\n",
       "      <th>1</th>\n",
       "      <td>1</td>\n",
       "      <td>63</td>\n",
       "      <td>1</td>\n",
       "      <td>6</td>\n",
       "      <td>15</td>\n",
       "      <td>92</td>\n",
       "      <td>53061.0</td>\n",
       "      <td>44.8</td>\n",
       "      <td>13.2</td>\n",
       "      <td>26.0</td>\n",
       "      <td>0.29</td>\n",
       "    </tr>\n",
       "    <tr>\n",
       "      <th>2</th>\n",
       "      <td>5</td>\n",
       "      <td>63</td>\n",
       "      <td>0</td>\n",
       "      <td>7</td>\n",
       "      <td>2</td>\n",
       "      <td>46</td>\n",
       "      <td>53061.0</td>\n",
       "      <td>49.9</td>\n",
       "      <td>12.0</td>\n",
       "      <td>26.0</td>\n",
       "      <td>0.54</td>\n",
       "    </tr>\n",
       "    <tr>\n",
       "      <th>3</th>\n",
       "      <td>1</td>\n",
       "      <td>63</td>\n",
       "      <td>0</td>\n",
       "      <td>7</td>\n",
       "      <td>2</td>\n",
       "      <td>125</td>\n",
       "      <td>17031.0</td>\n",
       "      <td>36.1</td>\n",
       "      <td>4.8</td>\n",
       "      <td>NaN</td>\n",
       "      <td>0.16</td>\n",
       "    </tr>\n",
       "    <tr>\n",
       "      <th>4</th>\n",
       "      <td>10</td>\n",
       "      <td>63</td>\n",
       "      <td>1</td>\n",
       "      <td>8</td>\n",
       "      <td>38</td>\n",
       "      <td>133</td>\n",
       "      <td>53061.0</td>\n",
       "      <td>51.5</td>\n",
       "      <td>13.0</td>\n",
       "      <td>28.0</td>\n",
       "      <td>0.32</td>\n",
       "    </tr>\n",
       "  </tbody>\n",
       "</table>\n",
       "</div>"
      ],
      "text/plain": [
       "   bee_count  plant  year  month  state  county     fips  mean_temp  \\\n",
       "0          1     63     1      6     15     123  53061.0       44.1   \n",
       "1          1     63     1      6     15      92  53061.0       44.8   \n",
       "2          5     63     0      7      2      46  53061.0       49.9   \n",
       "3          1     63     0      7      2     125  17031.0       36.1   \n",
       "4         10     63     1      8     38     133  53061.0       51.5   \n",
       "\n",
       "   wind_speed  wind_gust  precipitation  \n",
       "0         8.3       28.0           0.00  \n",
       "1        13.2       26.0           0.29  \n",
       "2        12.0       26.0           0.54  \n",
       "3         4.8        NaN           0.16  \n",
       "4        13.0       28.0           0.32  "
      ]
     },
     "execution_count": 183,
     "metadata": {},
     "output_type": "execute_result"
    }
   ],
   "source": [
    "df1.head()"
   ]
  },
  {
   "cell_type": "code",
   "execution_count": 184,
   "metadata": {},
   "outputs": [],
   "source": [
    "df1.to_csv(\"../data/cleaned/encoded_data.csv\")"
   ]
  },
  {
   "cell_type": "code",
   "execution_count": 185,
   "metadata": {},
   "outputs": [
    {
     "name": "stdout",
     "output_type": "stream",
     "text": [
      "bee_count        False\n",
      "plant            False\n",
      "year             False\n",
      "month            False\n",
      "state            False\n",
      "county           False\n",
      "fips              True\n",
      "mean_temp         True\n",
      "wind_speed        True\n",
      "wind_gust         True\n",
      "precipitation     True\n",
      "dtype: bool\n"
     ]
    }
   ],
   "source": [
    "print(df1.isna().any())"
   ]
  },
  {
   "cell_type": "code",
   "execution_count": 189,
   "metadata": {},
   "outputs": [
    {
     "name": "stdout",
     "output_type": "stream",
     "text": [
      "bee_count           0\n",
      "plant               0\n",
      "year                0\n",
      "month               0\n",
      "state               0\n",
      "county              0\n",
      "fips               29\n",
      "mean_temp          27\n",
      "wind_speed        337\n",
      "wind_gust        4272\n",
      "precipitation     964\n",
      "dtype: int64\n"
     ]
    }
   ],
   "source": [
    "df1.shape\n",
    "print(df1.isna().sum())"
   ]
  },
  {
   "cell_type": "code",
   "execution_count": 199,
   "metadata": {},
   "outputs": [
    {
     "data": {
      "text/plain": [
       "(10211,)"
      ]
     },
     "execution_count": 199,
     "metadata": {},
     "output_type": "execute_result"
    }
   ],
   "source": [
    "mean_temp2= df1[\"mean_temp\"].mean()\n",
    "mean_windspd= df1[\"wind_speed\"].mean()\n",
    "mean_wdgust= df1[\"wind_gust\"].mean()\n",
    "mean_prec= df1[\"precipitation\"].mean()\n",
    "\n",
    "df1[\"mean_temp\"]=df1['mean_temp'].fillna(mean_temp2, limit=100)\n",
    "\n",
    "df1[\"mean_temp\"].shape\n"
   ]
  },
  {
   "cell_type": "code",
   "execution_count": 200,
   "metadata": {},
   "outputs": [
    {
     "name": "stdout",
     "output_type": "stream",
     "text": [
      "bee_count        False\n",
      "plant            False\n",
      "year             False\n",
      "month            False\n",
      "state            False\n",
      "county           False\n",
      "fips              True\n",
      "mean_temp        False\n",
      "wind_speed       False\n",
      "wind_gust         True\n",
      "precipitation     True\n",
      "dtype: bool\n"
     ]
    }
   ],
   "source": [
    "df1[\"wind_speed\"]=df1['wind_speed'].fillna(mean_windspd, limit=100)\n",
    "print(df1.isna().any())"
   ]
  },
  {
   "cell_type": "code",
   "execution_count": 202,
   "metadata": {},
   "outputs": [
    {
     "name": "stdout",
     "output_type": "stream",
     "text": [
      "bee_count        False\n",
      "plant            False\n",
      "year             False\n",
      "month            False\n",
      "state            False\n",
      "county           False\n",
      "fips              True\n",
      "mean_temp        False\n",
      "wind_speed       False\n",
      "wind_gust        False\n",
      "precipitation     True\n",
      "dtype: bool\n"
     ]
    }
   ],
   "source": [
    "df1[\"wind_gust\"]=df1['wind_gust'].fillna(mean_wdgust)\n",
    "print(df1.isna().any())"
   ]
  },
  {
   "cell_type": "code",
   "execution_count": 203,
   "metadata": {},
   "outputs": [],
   "source": [
    "df1[\"precipitation\"]=df1['precipitation'].fillna(mean_prec)"
   ]
  },
  {
   "cell_type": "code",
   "execution_count": 204,
   "metadata": {},
   "outputs": [
    {
     "name": "stdout",
     "output_type": "stream",
     "text": [
      "bee_count        False\n",
      "plant            False\n",
      "year             False\n",
      "month            False\n",
      "state            False\n",
      "county           False\n",
      "fips              True\n",
      "mean_temp        False\n",
      "wind_speed       False\n",
      "wind_gust        False\n",
      "precipitation    False\n",
      "dtype: bool\n"
     ]
    }
   ],
   "source": [
    "print(df1.isna().any())"
   ]
  },
  {
   "cell_type": "code",
   "execution_count": 211,
   "metadata": {
    "scrolled": true
   },
   "outputs": [
    {
     "data": {
      "text/plain": [
       "(10211, 10)"
      ]
     },
     "execution_count": 211,
     "metadata": {},
     "output_type": "execute_result"
    }
   ],
   "source": [
    "list(df1)\n",
    "df1.head()\n",
    "df1.shape"
   ]
  },
  {
   "cell_type": "code",
   "execution_count": 212,
   "metadata": {
    "scrolled": false
   },
   "outputs": [
    {
     "data": {
      "text/plain": [
       "(array([9.958e+03, 1.300e+02, 5.300e+01, 2.800e+01, 2.200e+01, 1.100e+01,\n",
       "        6.000e+00, 0.000e+00, 1.000e+00, 2.000e+00]),\n",
       " array([  0. ,  10.6,  21.2,  31.8,  42.4,  53. ,  63.6,  74.2,  84.8,\n",
       "         95.4, 106. ]),\n",
       " <a list of 10 Patch objects>)"
      ]
     },
     "execution_count": 212,
     "metadata": {},
     "output_type": "execute_result"
    },
    {
     "data": {
      "image/png": "[encoded data removed]",
      "text/plain": [
       "<Figure size 432x288 with 1 Axes>"
      ]
     },
     "metadata": {
      "needs_background": "light"
     },
     "output_type": "display_data"
    }
   ],
   "source": [
    "plt.hist(df1['bee_count'])"
   ]
  },
  {
   "cell_type": "code",
   "execution_count": 213,
   "metadata": {},
   "outputs": [
    {
     "data": {
      "text/plain": [
       "63    5507\n",
       "75     386\n",
       "61     359\n",
       "46     297\n",
       "38     267\n",
       "      ... \n",
       "21       1\n",
       "29       1\n",
       "45       1\n",
       "30       1\n",
       "67       1\n",
       "Name: plant, Length: 84, dtype: int64"
      ]
     },
     "execution_count": 213,
     "metadata": {},
     "output_type": "execute_result"
    }
   ],
   "source": [
    "df1['plant'].value_counts()"
   ]
  },
  {
   "cell_type": "code",
   "execution_count": 214,
   "metadata": {},
   "outputs": [],
   "source": [
    "df1.to_csv('../data/cleaned/processed_cleaned.csv')"
   ]
  },
  {
   "cell_type": "code",
   "execution_count": 215,
   "metadata": {},
   "outputs": [
    {
     "data": {
      "text/plain": [
       "Index(['bee_count', 'plant', 'year', 'month', 'state', 'county', 'mean_temp',\n",
       "       'wind_speed', 'wind_gust', 'precipitation'],\n",
       "      dtype='object')"
      ]
     },
     "execution_count": 215,
     "metadata": {},
     "output_type": "execute_result"
    }
   ],
   "source": [
    "df1.columns"
   ]
  },
  {
   "cell_type": "code",
   "execution_count": 216,
   "metadata": {},
   "outputs": [],
   "source": [
    "import smogn"
   ]
  },
  {
   "cell_type": "code",
   "execution_count": 246,
   "metadata": {},
   "outputs": [
    {
     "name": "stderr",
     "output_type": "stream",
     "text": [
      "dist_matrix: 100%|##########| 17/17 [00:00<00:00, 108.08it/s]\n",
      "synth_matrix: 100%|##########| 17/17 [00:12<00:00,  1.34it/s]\n",
      "r_index: 100%|##########| 6/6 [00:00<00:00, 181.57it/s]\n"
     ]
    }
   ],
   "source": [
    "bee_temp_smogn2 = smogn.smoter(\n",
    "\n",
    "    data = df1, \n",
    "    y = \"bee_count\",\n",
    "    k = 3,                    ## positive integer (k < n)\n",
    "    samp_method = 'balance',  ## string ('balance' or 'extreme')\n",
    "\n",
    "    ## phi relevance arguments\n",
    "    rel_thres = 0.5,         ## positive real number (0 < R < 1)\n",
    "    rel_method = 'auto',      ## string ('auto' or 'manual')\n",
    "    rel_xtrm_type = 'high',   ## string ('low' or 'both' or 'high')\n",
    ")\n"
   ]
  },
  {
   "cell_type": "code",
   "execution_count": 247,
   "metadata": {},
   "outputs": [
    {
     "data": {
      "text/plain": [
       "(array([1.0066e+04, 6.1000e+01, 2.4000e+01, 1.6000e+01, 1.3000e+01,\n",
       "        7.0000e+00, 5.0000e+00, 0.0000e+00, 0.0000e+00, 2.0000e+00]),\n",
       " array([  0. ,  10.6,  21.2,  31.8,  42.4,  53. ,  63.6,  74.2,  84.8,\n",
       "         95.4, 106. ]),\n",
       " <a list of 10 Patch objects>)"
      ]
     },
     "execution_count": 247,
     "metadata": {},
     "output_type": "execute_result"
    },
    {
     "data": {
      "image/png": "[encoded data removed]",
      "text/plain": [
       "<Figure size 432x288 with 1 Axes>"
      ]
     },
     "metadata": {
      "needs_background": "light"
     },
     "output_type": "display_data"
    }
   ],
   "source": [
    "plt.hist(bee_temp_smogn2['bee_count'])"
   ]
  },
  {
   "cell_type": "code",
   "execution_count": 248,
   "metadata": {},
   "outputs": [
    {
     "data": {
      "text/plain": [
       "0     5106\n",
       "1     4779\n",
       "2       55\n",
       "3       26\n",
       "4       23\n",
       "      ... \n",
       "58       1\n",
       "50       1\n",
       "34       1\n",
       "45       1\n",
       "71       1\n",
       "Name: bee_count, Length: 62, dtype: int64"
      ]
     },
     "execution_count": 248,
     "metadata": {},
     "output_type": "execute_result"
    }
   ],
   "source": [
    "bee_temp_smogn2['bee_count'].value_counts()"
   ]
  },
  {
   "cell_type": "code",
   "execution_count": 249,
   "metadata": {},
   "outputs": [],
   "source": [
    "bee_temp_smogn2.to_csv('../data/cleaned/processed_cleaned_smogn.csv')"
   ]
  },
  {
   "cell_type": "code",
   "execution_count": 250,
   "metadata": {},
   "outputs": [
    {
     "data": {
      "text/plain": [
       "63    4957\n",
       "66    1136\n",
       "65     376\n",
       "75     242\n",
       "64     219\n",
       "      ... \n",
       "4        1\n",
       "5        1\n",
       "34       1\n",
       "21       1\n",
       "35       1\n",
       "Name: plant, Length: 78, dtype: int64"
      ]
     },
     "execution_count": 250,
     "metadata": {},
     "output_type": "execute_result"
    }
   ],
   "source": [
    "bee_temp_smogn2['plant'].value_counts()"
   ]
  },
  {
   "cell_type": "code",
   "execution_count": null,
   "metadata": {},
   "outputs": [],
   "source": []
  }
 ],
 "metadata": {
  "kernelspec": {
   "display_name": "Python 3",
   "language": "python",
   "name": "python3"
  },
  "language_info": {
   "codemirror_mode": {
    "name": "ipython",
    "version": 3
   },
   "file_extension": ".py",
   "mimetype": "text/x-python",
   "name": "python",
   "nbconvert_exporter": "python",
   "pygments_lexer": "ipython3",
   "version": "3.8.2"
  }
 },
 "nbformat": 4,
 "nbformat_minor": 4
}
