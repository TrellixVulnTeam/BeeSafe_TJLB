{
 "cells": [
  {
   "cell_type": "markdown",
   "metadata": {},
   "source": [
    "# Setup Import a few common modules, ensure MatplotLib plots figures inline. "
   ]
  },
  {
   "cell_type": "code",
   "execution_count": 1,
   "metadata": {},
   "outputs": [],
   "source": [
    "import pandas as pd\n",
    "import numpy as np\n",
    "import csv\n",
    "import matplotlib.pyplot as plt\n",
    "%matplotlib inline\n",
    "import os"
   ]
  },
  {
   "cell_type": "markdown",
   "metadata": {},
   "source": [
    "# Loading both unbalanced and balanced dataset for model estimation"
   ]
  },
  {
   "cell_type": "code",
   "execution_count": 2,
   "metadata": {},
   "outputs": [],
   "source": [
    "#Reading in cleaned data\n",
    "data_unbalanced = pd.read_csv(\"../data/cleaned/cleaned_unbalanced\") \n",
    "data_balanced = pd.read_csv(\"../data/cleaned/cleaned_balanced\") "
   ]
  },
  {
   "cell_type": "code",
   "execution_count": 3,
   "metadata": {
    "scrolled": false
   },
   "outputs": [
    {
     "data": {
      "text/html": [
       "<div>\n",
       "<style scoped>\n",
       "    .dataframe tbody tr th:only-of-type {\n",
       "        vertical-align: middle;\n",
       "    }\n",
       "\n",
       "    .dataframe tbody tr th {\n",
       "        vertical-align: top;\n",
       "    }\n",
       "\n",
       "    .dataframe thead th {\n",
       "        text-align: right;\n",
       "    }\n",
       "</style>\n",
       "<table border=\"1\" class=\"dataframe\">\n",
       "  <thead>\n",
       "    <tr style=\"text-align: right;\">\n",
       "      <th></th>\n",
       "      <th>Unnamed: 0</th>\n",
       "      <th>bee_count</th>\n",
       "      <th>county</th>\n",
       "      <th>mean_temp</th>\n",
       "      <th>wind_gust</th>\n",
       "      <th>precipitation</th>\n",
       "      <th>plant_Achillea sp.</th>\n",
       "      <th>plant_Asteraceae sp.</th>\n",
       "      <th>plant_Brassica sp.</th>\n",
       "      <th>plant_Cirsium sp.</th>\n",
       "      <th>plant_Delphinium sp.</th>\n",
       "      <th>plant_Epilobium latifolium</th>\n",
       "      <th>plant_Erigeron sp.</th>\n",
       "      <th>plant_Lathyrus sp.</th>\n",
       "      <th>plant_Lotus corniculatus</th>\n",
       "      <th>plant_Phacelia sp.</th>\n",
       "      <th>plant_Rubus allegheniensis</th>\n",
       "      <th>plant_Scrophularia sp.</th>\n",
       "    </tr>\n",
       "  </thead>\n",
       "  <tbody>\n",
       "    <tr>\n",
       "      <th>count</th>\n",
       "      <td>10211.000000</td>\n",
       "      <td>10211.000000</td>\n",
       "      <td>10211.000000</td>\n",
       "      <td>10211.000000</td>\n",
       "      <td>10211.000000</td>\n",
       "      <td>10211.000000</td>\n",
       "      <td>10211.000000</td>\n",
       "      <td>10211.000000</td>\n",
       "      <td>10211.000000</td>\n",
       "      <td>10211.000000</td>\n",
       "      <td>10211.000000</td>\n",
       "      <td>10211.000000</td>\n",
       "      <td>10211.000000</td>\n",
       "      <td>10211.000000</td>\n",
       "      <td>10211.000000</td>\n",
       "      <td>10211.000000</td>\n",
       "      <td>10211.000000</td>\n",
       "      <td>10211.000000</td>\n",
       "    </tr>\n",
       "    <tr>\n",
       "      <th>mean</th>\n",
       "      <td>5105.000000</td>\n",
       "      <td>1.755949</td>\n",
       "      <td>112.949760</td>\n",
       "      <td>49.569089</td>\n",
       "      <td>21.819549</td>\n",
       "      <td>0.110642</td>\n",
       "      <td>0.000490</td>\n",
       "      <td>0.001567</td>\n",
       "      <td>0.000588</td>\n",
       "      <td>0.539320</td>\n",
       "      <td>0.002546</td>\n",
       "      <td>0.005190</td>\n",
       "      <td>0.000196</td>\n",
       "      <td>0.001665</td>\n",
       "      <td>0.000686</td>\n",
       "      <td>0.000979</td>\n",
       "      <td>0.002057</td>\n",
       "      <td>0.000979</td>\n",
       "    </tr>\n",
       "    <tr>\n",
       "      <th>std</th>\n",
       "      <td>2947.806133</td>\n",
       "      <td>4.813259</td>\n",
       "      <td>64.339467</td>\n",
       "      <td>13.900134</td>\n",
       "      <td>4.616043</td>\n",
       "      <td>0.291077</td>\n",
       "      <td>0.022124</td>\n",
       "      <td>0.039555</td>\n",
       "      <td>0.024235</td>\n",
       "      <td>0.498476</td>\n",
       "      <td>0.050399</td>\n",
       "      <td>0.071861</td>\n",
       "      <td>0.013995</td>\n",
       "      <td>0.040771</td>\n",
       "      <td>0.026175</td>\n",
       "      <td>0.031281</td>\n",
       "      <td>0.045305</td>\n",
       "      <td>0.031281</td>\n",
       "    </tr>\n",
       "    <tr>\n",
       "      <th>min</th>\n",
       "      <td>0.000000</td>\n",
       "      <td>0.000000</td>\n",
       "      <td>0.000000</td>\n",
       "      <td>-4.700000</td>\n",
       "      <td>9.900000</td>\n",
       "      <td>0.000000</td>\n",
       "      <td>0.000000</td>\n",
       "      <td>0.000000</td>\n",
       "      <td>0.000000</td>\n",
       "      <td>0.000000</td>\n",
       "      <td>0.000000</td>\n",
       "      <td>0.000000</td>\n",
       "      <td>0.000000</td>\n",
       "      <td>0.000000</td>\n",
       "      <td>0.000000</td>\n",
       "      <td>0.000000</td>\n",
       "      <td>0.000000</td>\n",
       "      <td>0.000000</td>\n",
       "    </tr>\n",
       "    <tr>\n",
       "      <th>25%</th>\n",
       "      <td>2552.500000</td>\n",
       "      <td>1.000000</td>\n",
       "      <td>57.000000</td>\n",
       "      <td>38.800000</td>\n",
       "      <td>20.000000</td>\n",
       "      <td>0.000000</td>\n",
       "      <td>0.000000</td>\n",
       "      <td>0.000000</td>\n",
       "      <td>0.000000</td>\n",
       "      <td>0.000000</td>\n",
       "      <td>0.000000</td>\n",
       "      <td>0.000000</td>\n",
       "      <td>0.000000</td>\n",
       "      <td>0.000000</td>\n",
       "      <td>0.000000</td>\n",
       "      <td>0.000000</td>\n",
       "      <td>0.000000</td>\n",
       "      <td>0.000000</td>\n",
       "    </tr>\n",
       "    <tr>\n",
       "      <th>50%</th>\n",
       "      <td>5105.000000</td>\n",
       "      <td>1.000000</td>\n",
       "      <td>121.000000</td>\n",
       "      <td>48.000000</td>\n",
       "      <td>21.819549</td>\n",
       "      <td>0.000000</td>\n",
       "      <td>0.000000</td>\n",
       "      <td>0.000000</td>\n",
       "      <td>0.000000</td>\n",
       "      <td>1.000000</td>\n",
       "      <td>0.000000</td>\n",
       "      <td>0.000000</td>\n",
       "      <td>0.000000</td>\n",
       "      <td>0.000000</td>\n",
       "      <td>0.000000</td>\n",
       "      <td>0.000000</td>\n",
       "      <td>0.000000</td>\n",
       "      <td>0.000000</td>\n",
       "    </tr>\n",
       "    <tr>\n",
       "      <th>75%</th>\n",
       "      <td>7657.500000</td>\n",
       "      <td>1.000000</td>\n",
       "      <td>167.000000</td>\n",
       "      <td>59.800000</td>\n",
       "      <td>22.000000</td>\n",
       "      <td>0.110642</td>\n",
       "      <td>0.000000</td>\n",
       "      <td>0.000000</td>\n",
       "      <td>0.000000</td>\n",
       "      <td>1.000000</td>\n",
       "      <td>0.000000</td>\n",
       "      <td>0.000000</td>\n",
       "      <td>0.000000</td>\n",
       "      <td>0.000000</td>\n",
       "      <td>0.000000</td>\n",
       "      <td>0.000000</td>\n",
       "      <td>0.000000</td>\n",
       "      <td>0.000000</td>\n",
       "    </tr>\n",
       "    <tr>\n",
       "      <th>max</th>\n",
       "      <td>10210.000000</td>\n",
       "      <td>106.000000</td>\n",
       "      <td>210.000000</td>\n",
       "      <td>81.300000</td>\n",
       "      <td>58.100000</td>\n",
       "      <td>11.320000</td>\n",
       "      <td>1.000000</td>\n",
       "      <td>1.000000</td>\n",
       "      <td>1.000000</td>\n",
       "      <td>1.000000</td>\n",
       "      <td>1.000000</td>\n",
       "      <td>1.000000</td>\n",
       "      <td>1.000000</td>\n",
       "      <td>1.000000</td>\n",
       "      <td>1.000000</td>\n",
       "      <td>1.000000</td>\n",
       "      <td>1.000000</td>\n",
       "      <td>1.000000</td>\n",
       "    </tr>\n",
       "  </tbody>\n",
       "</table>\n",
       "</div>"
      ],
      "text/plain": [
       "         Unnamed: 0     bee_count        county     mean_temp     wind_gust  \\\n",
       "count  10211.000000  10211.000000  10211.000000  10211.000000  10211.000000   \n",
       "mean    5105.000000      1.755949    112.949760     49.569089     21.819549   \n",
       "std     2947.806133      4.813259     64.339467     13.900134      4.616043   \n",
       "min        0.000000      0.000000      0.000000     -4.700000      9.900000   \n",
       "25%     2552.500000      1.000000     57.000000     38.800000     20.000000   \n",
       "50%     5105.000000      1.000000    121.000000     48.000000     21.819549   \n",
       "75%     7657.500000      1.000000    167.000000     59.800000     22.000000   \n",
       "max    10210.000000    106.000000    210.000000     81.300000     58.100000   \n",
       "\n",
       "       precipitation  plant_Achillea sp.  plant_Asteraceae sp.  \\\n",
       "count   10211.000000        10211.000000          10211.000000   \n",
       "mean        0.110642            0.000490              0.001567   \n",
       "std         0.291077            0.022124              0.039555   \n",
       "min         0.000000            0.000000              0.000000   \n",
       "25%         0.000000            0.000000              0.000000   \n",
       "50%         0.000000            0.000000              0.000000   \n",
       "75%         0.110642            0.000000              0.000000   \n",
       "max        11.320000            1.000000              1.000000   \n",
       "\n",
       "       plant_Brassica sp.  plant_Cirsium sp.  plant_Delphinium sp.  \\\n",
       "count        10211.000000       10211.000000          10211.000000   \n",
       "mean             0.000588           0.539320              0.002546   \n",
       "std              0.024235           0.498476              0.050399   \n",
       "min              0.000000           0.000000              0.000000   \n",
       "25%              0.000000           0.000000              0.000000   \n",
       "50%              0.000000           1.000000              0.000000   \n",
       "75%              0.000000           1.000000              0.000000   \n",
       "max              1.000000           1.000000              1.000000   \n",
       "\n",
       "       plant_Epilobium latifolium  plant_Erigeron sp.  plant_Lathyrus sp.  \\\n",
       "count                10211.000000        10211.000000        10211.000000   \n",
       "mean                     0.005190            0.000196            0.001665   \n",
       "std                      0.071861            0.013995            0.040771   \n",
       "min                      0.000000            0.000000            0.000000   \n",
       "25%                      0.000000            0.000000            0.000000   \n",
       "50%                      0.000000            0.000000            0.000000   \n",
       "75%                      0.000000            0.000000            0.000000   \n",
       "max                      1.000000            1.000000            1.000000   \n",
       "\n",
       "       plant_Lotus corniculatus  plant_Phacelia sp.  \\\n",
       "count              10211.000000        10211.000000   \n",
       "mean                   0.000686            0.000979   \n",
       "std                    0.026175            0.031281   \n",
       "min                    0.000000            0.000000   \n",
       "25%                    0.000000            0.000000   \n",
       "50%                    0.000000            0.000000   \n",
       "75%                    0.000000            0.000000   \n",
       "max                    1.000000            1.000000   \n",
       "\n",
       "       plant_Rubus allegheniensis  plant_Scrophularia sp.  \n",
       "count                10211.000000            10211.000000  \n",
       "mean                     0.002057                0.000979  \n",
       "std                      0.045305                0.031281  \n",
       "min                      0.000000                0.000000  \n",
       "25%                      0.000000                0.000000  \n",
       "50%                      0.000000                0.000000  \n",
       "75%                      0.000000                0.000000  \n",
       "max                      1.000000                1.000000  "
      ]
     },
     "execution_count": 3,
     "metadata": {},
     "output_type": "execute_result"
    }
   ],
   "source": [
    "data_unbalanced.describe()"
   ]
  },
  {
   "cell_type": "code",
   "execution_count": 4,
   "metadata": {
    "scrolled": true
   },
   "outputs": [
    {
     "data": {
      "text/html": [
       "<div>\n",
       "<style scoped>\n",
       "    .dataframe tbody tr th:only-of-type {\n",
       "        vertical-align: middle;\n",
       "    }\n",
       "\n",
       "    .dataframe tbody tr th {\n",
       "        vertical-align: top;\n",
       "    }\n",
       "\n",
       "    .dataframe thead th {\n",
       "        text-align: right;\n",
       "    }\n",
       "</style>\n",
       "<table border=\"1\" class=\"dataframe\">\n",
       "  <thead>\n",
       "    <tr style=\"text-align: right;\">\n",
       "      <th></th>\n",
       "      <th>Unnamed: 0</th>\n",
       "      <th>bee_count</th>\n",
       "      <th>county</th>\n",
       "      <th>mean_temp</th>\n",
       "      <th>wind_gust</th>\n",
       "      <th>precipitation</th>\n",
       "      <th>plant_Achillea sp.</th>\n",
       "      <th>plant_Asteraceae sp.</th>\n",
       "      <th>plant_Brassica sp.</th>\n",
       "      <th>plant_Cirsium sp.</th>\n",
       "      <th>plant_Delphinium sp.</th>\n",
       "      <th>plant_Epilobium latifolium</th>\n",
       "      <th>plant_Erigeron sp.</th>\n",
       "      <th>plant_Lathyrus sp.</th>\n",
       "      <th>plant_Lotus corniculatus</th>\n",
       "      <th>plant_Phacelia sp.</th>\n",
       "      <th>plant_Rubus allegheniensis</th>\n",
       "      <th>plant_Scrophularia sp.</th>\n",
       "    </tr>\n",
       "  </thead>\n",
       "  <tbody>\n",
       "    <tr>\n",
       "      <th>count</th>\n",
       "      <td>10194.000000</td>\n",
       "      <td>10194.000000</td>\n",
       "      <td>10194.000000</td>\n",
       "      <td>10194.000000</td>\n",
       "      <td>10194.000000</td>\n",
       "      <td>10194.000000</td>\n",
       "      <td>10194.000000</td>\n",
       "      <td>10194.000000</td>\n",
       "      <td>10194.000000</td>\n",
       "      <td>10194.000000</td>\n",
       "      <td>10194.000000</td>\n",
       "      <td>10194.000000</td>\n",
       "      <td>10194.000000</td>\n",
       "      <td>10194.000000</td>\n",
       "      <td>10194.000000</td>\n",
       "      <td>10194.000000</td>\n",
       "      <td>10194.000000</td>\n",
       "      <td>10194.000000</td>\n",
       "    </tr>\n",
       "    <tr>\n",
       "      <th>mean</th>\n",
       "      <td>3832.428978</td>\n",
       "      <td>0.882382</td>\n",
       "      <td>119.625466</td>\n",
       "      <td>51.031578</td>\n",
       "      <td>21.908384</td>\n",
       "      <td>0.152653</td>\n",
       "      <td>0.000294</td>\n",
       "      <td>0.000589</td>\n",
       "      <td>0.000392</td>\n",
       "      <td>0.482637</td>\n",
       "      <td>0.001177</td>\n",
       "      <td>0.002452</td>\n",
       "      <td>0.000098</td>\n",
       "      <td>0.000883</td>\n",
       "      <td>0.000392</td>\n",
       "      <td>0.000589</td>\n",
       "      <td>0.000981</td>\n",
       "      <td>0.000196</td>\n",
       "    </tr>\n",
       "    <tr>\n",
       "      <th>std</th>\n",
       "      <td>2653.258509</td>\n",
       "      <td>3.622991</td>\n",
       "      <td>69.472673</td>\n",
       "      <td>11.473608</td>\n",
       "      <td>4.320892</td>\n",
       "      <td>0.259650</td>\n",
       "      <td>0.017153</td>\n",
       "      <td>0.024255</td>\n",
       "      <td>0.019806</td>\n",
       "      <td>0.499723</td>\n",
       "      <td>0.034291</td>\n",
       "      <td>0.049464</td>\n",
       "      <td>0.009904</td>\n",
       "      <td>0.029702</td>\n",
       "      <td>0.019806</td>\n",
       "      <td>0.024255</td>\n",
       "      <td>0.031307</td>\n",
       "      <td>0.014006</td>\n",
       "    </tr>\n",
       "    <tr>\n",
       "      <th>min</th>\n",
       "      <td>0.000000</td>\n",
       "      <td>0.000000</td>\n",
       "      <td>0.000000</td>\n",
       "      <td>-0.800000</td>\n",
       "      <td>9.900000</td>\n",
       "      <td>0.000000</td>\n",
       "      <td>0.000000</td>\n",
       "      <td>0.000000</td>\n",
       "      <td>0.000000</td>\n",
       "      <td>0.000000</td>\n",
       "      <td>0.000000</td>\n",
       "      <td>0.000000</td>\n",
       "      <td>0.000000</td>\n",
       "      <td>0.000000</td>\n",
       "      <td>0.000000</td>\n",
       "      <td>0.000000</td>\n",
       "      <td>0.000000</td>\n",
       "      <td>0.000000</td>\n",
       "    </tr>\n",
       "    <tr>\n",
       "      <th>25%</th>\n",
       "      <td>1710.250000</td>\n",
       "      <td>0.000000</td>\n",
       "      <td>45.000000</td>\n",
       "      <td>43.100000</td>\n",
       "      <td>21.000000</td>\n",
       "      <td>0.000000</td>\n",
       "      <td>0.000000</td>\n",
       "      <td>0.000000</td>\n",
       "      <td>0.000000</td>\n",
       "      <td>0.000000</td>\n",
       "      <td>0.000000</td>\n",
       "      <td>0.000000</td>\n",
       "      <td>0.000000</td>\n",
       "      <td>0.000000</td>\n",
       "      <td>0.000000</td>\n",
       "      <td>0.000000</td>\n",
       "      <td>0.000000</td>\n",
       "      <td>0.000000</td>\n",
       "    </tr>\n",
       "    <tr>\n",
       "      <th>50%</th>\n",
       "      <td>3405.500000</td>\n",
       "      <td>0.000000</td>\n",
       "      <td>134.000000</td>\n",
       "      <td>52.809351</td>\n",
       "      <td>21.819549</td>\n",
       "      <td>0.067054</td>\n",
       "      <td>0.000000</td>\n",
       "      <td>0.000000</td>\n",
       "      <td>0.000000</td>\n",
       "      <td>0.000000</td>\n",
       "      <td>0.000000</td>\n",
       "      <td>0.000000</td>\n",
       "      <td>0.000000</td>\n",
       "      <td>0.000000</td>\n",
       "      <td>0.000000</td>\n",
       "      <td>0.000000</td>\n",
       "      <td>0.000000</td>\n",
       "      <td>0.000000</td>\n",
       "    </tr>\n",
       "    <tr>\n",
       "      <th>75%</th>\n",
       "      <td>5136.750000</td>\n",
       "      <td>1.000000</td>\n",
       "      <td>201.000000</td>\n",
       "      <td>55.039139</td>\n",
       "      <td>21.840592</td>\n",
       "      <td>0.270003</td>\n",
       "      <td>0.000000</td>\n",
       "      <td>0.000000</td>\n",
       "      <td>0.000000</td>\n",
       "      <td>1.000000</td>\n",
       "      <td>0.000000</td>\n",
       "      <td>0.000000</td>\n",
       "      <td>0.000000</td>\n",
       "      <td>0.000000</td>\n",
       "      <td>0.000000</td>\n",
       "      <td>0.000000</td>\n",
       "      <td>0.000000</td>\n",
       "      <td>0.000000</td>\n",
       "    </tr>\n",
       "    <tr>\n",
       "      <th>max</th>\n",
       "      <td>10210.000000</td>\n",
       "      <td>106.000000</td>\n",
       "      <td>209.000000</td>\n",
       "      <td>81.300000</td>\n",
       "      <td>58.100000</td>\n",
       "      <td>11.320000</td>\n",
       "      <td>1.000000</td>\n",
       "      <td>1.000000</td>\n",
       "      <td>1.000000</td>\n",
       "      <td>1.000000</td>\n",
       "      <td>1.000000</td>\n",
       "      <td>1.000000</td>\n",
       "      <td>1.000000</td>\n",
       "      <td>1.000000</td>\n",
       "      <td>1.000000</td>\n",
       "      <td>1.000000</td>\n",
       "      <td>1.000000</td>\n",
       "      <td>1.000000</td>\n",
       "    </tr>\n",
       "  </tbody>\n",
       "</table>\n",
       "</div>"
      ],
      "text/plain": [
       "         Unnamed: 0     bee_count        county     mean_temp     wind_gust  \\\n",
       "count  10194.000000  10194.000000  10194.000000  10194.000000  10194.000000   \n",
       "mean    3832.428978      0.882382    119.625466     51.031578     21.908384   \n",
       "std     2653.258509      3.622991     69.472673     11.473608      4.320892   \n",
       "min        0.000000      0.000000      0.000000     -0.800000      9.900000   \n",
       "25%     1710.250000      0.000000     45.000000     43.100000     21.000000   \n",
       "50%     3405.500000      0.000000    134.000000     52.809351     21.819549   \n",
       "75%     5136.750000      1.000000    201.000000     55.039139     21.840592   \n",
       "max    10210.000000    106.000000    209.000000     81.300000     58.100000   \n",
       "\n",
       "       precipitation  plant_Achillea sp.  plant_Asteraceae sp.  \\\n",
       "count   10194.000000        10194.000000          10194.000000   \n",
       "mean        0.152653            0.000294              0.000589   \n",
       "std         0.259650            0.017153              0.024255   \n",
       "min         0.000000            0.000000              0.000000   \n",
       "25%         0.000000            0.000000              0.000000   \n",
       "50%         0.067054            0.000000              0.000000   \n",
       "75%         0.270003            0.000000              0.000000   \n",
       "max        11.320000            1.000000              1.000000   \n",
       "\n",
       "       plant_Brassica sp.  plant_Cirsium sp.  plant_Delphinium sp.  \\\n",
       "count        10194.000000       10194.000000          10194.000000   \n",
       "mean             0.000392           0.482637              0.001177   \n",
       "std              0.019806           0.499723              0.034291   \n",
       "min              0.000000           0.000000              0.000000   \n",
       "25%              0.000000           0.000000              0.000000   \n",
       "50%              0.000000           0.000000              0.000000   \n",
       "75%              0.000000           1.000000              0.000000   \n",
       "max              1.000000           1.000000              1.000000   \n",
       "\n",
       "       plant_Epilobium latifolium  plant_Erigeron sp.  plant_Lathyrus sp.  \\\n",
       "count                10194.000000        10194.000000        10194.000000   \n",
       "mean                     0.002452            0.000098            0.000883   \n",
       "std                      0.049464            0.009904            0.029702   \n",
       "min                      0.000000            0.000000            0.000000   \n",
       "25%                      0.000000            0.000000            0.000000   \n",
       "50%                      0.000000            0.000000            0.000000   \n",
       "75%                      0.000000            0.000000            0.000000   \n",
       "max                      1.000000            1.000000            1.000000   \n",
       "\n",
       "       plant_Lotus corniculatus  plant_Phacelia sp.  \\\n",
       "count              10194.000000        10194.000000   \n",
       "mean                   0.000392            0.000589   \n",
       "std                    0.019806            0.024255   \n",
       "min                    0.000000            0.000000   \n",
       "25%                    0.000000            0.000000   \n",
       "50%                    0.000000            0.000000   \n",
       "75%                    0.000000            0.000000   \n",
       "max                    1.000000            1.000000   \n",
       "\n",
       "       plant_Rubus allegheniensis  plant_Scrophularia sp.  \n",
       "count                10194.000000            10194.000000  \n",
       "mean                     0.000981                0.000196  \n",
       "std                      0.031307                0.014006  \n",
       "min                      0.000000                0.000000  \n",
       "25%                      0.000000                0.000000  \n",
       "50%                      0.000000                0.000000  \n",
       "75%                      0.000000                0.000000  \n",
       "max                      1.000000                1.000000  "
      ]
     },
     "execution_count": 4,
     "metadata": {},
     "output_type": "execute_result"
    }
   ],
   "source": [
    "data_balanced.describe()"
   ]
  },
  {
   "cell_type": "markdown",
   "metadata": {},
   "source": [
    "# Model Estimation (Unbalanced Dataset)"
   ]
  },
  {
   "cell_type": "code",
   "execution_count": 5,
   "metadata": {},
   "outputs": [],
   "source": [
    "from sklearn.metrics import mean_squared_error\n",
    "from sklearn.metrics import mean_absolute_error\n",
    "from sklearn.metrics import mean_poisson_deviance\n",
    "from sklearn.metrics import r2_score\n",
    "from sklearn.model_selection import train_test_split\n",
    "from sklearn import preprocessing\n",
    "from sklearn.linear_model import PoissonRegressor\n",
    "from sklearn.experimental import enable_hist_gradient_boosting  # noqa\n",
    "from sklearn.ensemble import HistGradientBoostingRegressor\n",
    "from sklearn.model_selection import train_test_split\n",
    "from sklearn import preprocessing"
   ]
  },
  {
   "cell_type": "code",
   "execution_count": 9,
   "metadata": {},
   "outputs": [],
   "source": [
    "#selecting the features in X vector and target into y vector\n",
    "X = data_unbalanced.drop(['bee_count', 'Unnamed: 0'], axis =1)\n",
    "y= data_unbalanced['bee_count']\n",
    "\n",
    "#Scaling features to put them in similar scales\n",
    "X = preprocessing.scale(X)\n",
    "\n",
    "#selecting 70% of unbalanced dataset for model training and 30% for testing\n",
    "X_train, X_test, y_train, y_test = train_test_split(X,y, test_size = 0.3, random_state = 0)\n"
   ]
  },
  {
   "cell_type": "code",
   "execution_count": 10,
   "metadata": {},
   "outputs": [],
   "source": [
    "#function to obtain model metrics to judge the quality of the estimated models\n",
    "\n",
    "def score_estimator(estimator, X_test):\n",
    "    \"\"\"Score an estimator on the test set.\"\"\"\n",
    "    y_pred = estimator.predict(X_test)\n",
    "\n",
    "    print(\"MSE: %.3f\" % mean_squared_error(y_test, y_pred))\n",
    "    print(\"MAE: %.3f\" % mean_absolute_error(y_test, y_pred))\n",
    "    print(\"R_square: %.3f\" % r2_score(y_test, y_pred))\n",
    "\n",
    "    # Ignore non-positive predictions, as they are invalid for\n",
    "    # the Poisson deviance.\n",
    "    mask = y_pred > 0\n",
    "    if (~mask).any():\n",
    "        n_masked, n_samples = (~mask).sum(), mask.shape[0]\n",
    "        print(f\"WARNING: Estimator yields invalid, non-positive predictions \"\n",
    "              f\" for {n_masked} samples out of {n_samples}. These predictions \"\n",
    "              f\"are ignored when computing the Poisson deviance.\")\n",
    "\n",
    "    print(\"mean Poisson deviance: %.3f\" % mean_poisson_deviance(y_test, y_pred))"
   ]
  },
  {
   "cell_type": "markdown",
   "metadata": {},
   "source": [
    "## Estimating the base poisson model: unbalanced dataset\n"
   ]
  },
  {
   "cell_type": "code",
   "execution_count": 12,
   "metadata": {},
   "outputs": [
    {
     "data": {
      "text/plain": [
       "PoissonRegressor(max_iter=500)"
      ]
     },
     "execution_count": 12,
     "metadata": {},
     "output_type": "execute_result"
    }
   ],
   "source": [
    "poisson_glm = PoissonRegressor(max_iter =500)\n",
    "poisson_glm.fit(X_train,y_train)"
   ]
  },
  {
   "cell_type": "code",
   "execution_count": 13,
   "metadata": {
    "scrolled": true
   },
   "outputs": [
    {
     "name": "stdout",
     "output_type": "stream",
     "text": [
      "Poisson evaluation:\n",
      "MSE: 19.481\n",
      "MAE: 1.353\n",
      "R_square: 0.019\n",
      "mean Poisson deviance: 2.621\n"
     ]
    }
   ],
   "source": [
    "print(\"Poisson evaluation:\")\n",
    "score_estimator(poisson_glm, X_test)"
   ]
  },
  {
   "cell_type": "markdown",
   "metadata": {},
   "source": [
    "## Estimating the base advanced poisson model (Poisson Gradient Boosting): unbalanced dataset\n"
   ]
  },
  {
   "cell_type": "code",
   "execution_count": 14,
   "metadata": {},
   "outputs": [
    {
     "data": {
      "text/plain": [
       "HistGradientBoostingRegressor(loss='poisson')"
      ]
     },
     "execution_count": 14,
     "metadata": {},
     "output_type": "execute_result"
    }
   ],
   "source": [
    "poisson_gbrt = HistGradientBoostingRegressor(loss=\"poisson\")\n",
    "\n",
    "poisson_gbrt.fit(X_train,y_train)"
   ]
  },
  {
   "cell_type": "code",
   "execution_count": 15,
   "metadata": {
    "scrolled": false
   },
   "outputs": [
    {
     "name": "stdout",
     "output_type": "stream",
     "text": [
      "Poisson Gradient Boosted Trees evaluation:\n",
      "MSE: 16.443\n",
      "MAE: 0.969\n",
      "R_square: 0.172\n",
      "mean Poisson deviance: 1.638\n"
     ]
    }
   ],
   "source": [
    "print(\"Poisson Gradient Boosted Trees evaluation:\")\n",
    "score_estimator(poisson_gbrt, X_test)"
   ]
  },
  {
   "cell_type": "markdown",
   "metadata": {},
   "source": [
    "# Conducting a 10 fold cross-valuation to evaluate our base model and complex model: looking out for overfitting\n"
   ]
  },
  {
   "cell_type": "code",
   "execution_count": 16,
   "metadata": {
    "scrolled": true
   },
   "outputs": [],
   "source": [
    "from sklearn.model_selection import cross_val_score"
   ]
  },
  {
   "cell_type": "code",
   "execution_count": 18,
   "metadata": {
    "scrolled": false
   },
   "outputs": [
    {
     "name": "stdout",
     "output_type": "stream",
     "text": [
      "Scores: [5.4396588  4.09690902 4.88243645 5.42987268 5.47456953 3.81203673\n",
      " 5.44850086 3.6485185  5.4710752  4.90071251]\n",
      "Mean: 4.860429027110769\n",
      "Standard deviation: 0.7006127616832672\n"
     ]
    }
   ],
   "source": [
    "#Base Model\n",
    "scores = cross_val_score(poisson_glm, X_train,y_train, scoring=\"neg_mean_squared_error\", cv=10)\n",
    "\n",
    "base_rmse_scores = np.sqrt(-scores)\n",
    "\n",
    "def display_scores(scores):\n",
    "    print(\"Scores:\", scores)\n",
    "    print(\"Mean:\", scores.mean())\n",
    "    print(\"Standard deviation:\", scores.std())\n",
    "\n",
    "display_scores(base_rmse_scores)"
   ]
  },
  {
   "cell_type": "code",
   "execution_count": 19,
   "metadata": {},
   "outputs": [
    {
     "name": "stdout",
     "output_type": "stream",
     "text": [
      "Scores: [5.15175766 3.9080967  4.90058501 4.72415325 5.20649176 3.70648416\n",
      " 5.39038145 3.57262667 5.34550158 4.37624233]\n",
      "Mean: 4.628232057746258\n",
      "Standard deviation: 0.6582707099472574\n"
     ]
    }
   ],
   "source": [
    "#Gradient Boosting Model\n",
    "scores = cross_val_score(poisson_gbrt, X_train,y_train, scoring=\"neg_mean_squared_error\", cv=10)\n",
    "\n",
    "gradient_rmse_scores = np.sqrt(-scores)\n",
    "\n",
    "def display_scores(scores):\n",
    "    print(\"Scores:\", scores)\n",
    "    print(\"Mean:\", scores.mean())\n",
    "    print(\"Standard deviation:\", scores.std())\n",
    "\n",
    "display_scores(gradient_rmse_scores)"
   ]
  },
  {
   "cell_type": "markdown",
   "metadata": {},
   "source": [
    "# Re-estimating the same poisson models above with corrected imbalanced dataset "
   ]
  },
  {
   "cell_type": "code",
   "execution_count": 20,
   "metadata": {},
   "outputs": [],
   "source": [
    "#Groupin the feature variables and target variable to be used to obtain trainset and test set samples\n",
    "X_sm = data_balanced.drop(['bee_count', 'Unnamed: 0'], axis =1)\n",
    "y_sm = data_balanced['bee_count']\n",
    "X_sm = preprocessing.scale(X_sm)\n",
    "\n",
    "X_train_sm, X_test_sm, y_train_sm, y_test_sm = train_test_split(X_sm,y_sm, test_size = 0.3, random_state = 0)"
   ]
  },
  {
   "cell_type": "code",
   "execution_count": 21,
   "metadata": {},
   "outputs": [],
   "source": [
    "#Creating a function to get the accuracy metrics\n",
    "def score_estimator(estimator, X_test_sm):\n",
    "    \"\"\"Score an estimator on the test set.\"\"\"\n",
    "    y_pred_sm = estimator.predict(X_test_sm)\n",
    "\n",
    "    print(\"MSE: %.3f\" % mean_squared_error(y_test_sm, y_pred_sm))\n",
    "    print(\"MAE: %.3f\" % mean_absolute_error(y_test_sm, y_pred_sm))\n",
    "    print(\"R_square: %.3f\" % r2_score(y_test_sm, y_pred_sm))\n",
    "\n",
    "    # Ignore non-positive predictions, as they are invalid for\n",
    "    # the Poisson deviance.\n",
    "    mask = y_pred_sm > 0\n",
    "    if (~mask).any():\n",
    "        n_masked, n_samples = (~mask).sum(), mask.shape[0]\n",
    "        print(f\"WARNING: Estimator yields invalid, non-positive predictions \"\n",
    "              f\" for {n_masked} samples out of {n_samples}. These predictions \"\n",
    "              f\"are ignored when computing the Poisson deviance.\")\n",
    "\n",
    "    print(\"mean Poisson deviance: %.3f\" % mean_poisson_deviance(y_test_sm, y_pred_sm))"
   ]
  },
  {
   "cell_type": "code",
   "execution_count": 22,
   "metadata": {
    "scrolled": true
   },
   "outputs": [
    {
     "name": "stdout",
     "output_type": "stream",
     "text": [
      "Poisson evaluation:\n",
      "MSE: 10.637\n",
      "MAE: 0.896\n",
      "R_square: 0.015\n",
      "mean Poisson deviance: 2.469\n"
     ]
    }
   ],
   "source": [
    "#Estimating the base poisson model for the corrected imbalanced dataset\n",
    "poisson_glm_sm = PoissonRegressor(max_iter =500)\n",
    "poisson_glm_sm.fit(X_train_sm,y_train_sm)\n",
    "\n",
    "print(\"Poisson evaluation:\")\n",
    "score_estimator(poisson_glm_sm, X_test_sm)\n"
   ]
  },
  {
   "cell_type": "code",
   "execution_count": 23,
   "metadata": {},
   "outputs": [
    {
     "name": "stdout",
     "output_type": "stream",
     "text": [
      "Poisson Gradient Boosted Trees evaluation:\n",
      "MSE: 8.794\n",
      "MAE: 0.556\n",
      "R_square: 0.185\n",
      "mean Poisson deviance: 1.031\n"
     ]
    }
   ],
   "source": [
    "#Estimating advanced poisson model for the corrected imbalanced dataset\n",
    "poisson_gbrt_sm = HistGradientBoostingRegressor(loss=\"poisson\")\n",
    "poisson_gbrt_sm.fit(X_train_sm,y_train_sm)\n",
    "\n",
    "print(\"Poisson Gradient Boosted Trees evaluation:\")\n",
    "score_estimator(poisson_gbrt_sm, X_test_sm)"
   ]
  },
  {
   "cell_type": "markdown",
   "metadata": {},
   "source": [
    "# Conducting a 10 fold cross-valuation to evaluate our base model and complex model: looking out for overfitting"
   ]
  },
  {
   "cell_type": "code",
   "execution_count": 25,
   "metadata": {
    "scrolled": true
   },
   "outputs": [
    {
     "name": "stdout",
     "output_type": "stream",
     "text": [
      "Scores: [5.4396588  4.09690902 4.88243645 5.42987268 5.47456953 3.81203673\n",
      " 5.44850086 3.6485185  5.4710752  4.90071251]\n",
      "Mean: 4.860429027110769\n",
      "Standard deviation: 0.7006127616832672\n"
     ]
    }
   ],
   "source": [
    "#Base Model:corrected imbalanced data\n",
    "scores = cross_val_score(poisson_glm_sm, X_train_sm,y_train_sm, scoring=\"neg_mean_squared_error\", cv=10)\n",
    "\n",
    "base_bal_rmse_scores = np.sqrt(-scores)\n",
    "\n",
    "def display_scores(scores):\n",
    "    print(\"Scores:\", scores)\n",
    "    print(\"Mean:\", scores.mean())\n",
    "    print(\"Standard deviation:\", scores.std())\n",
    "\n",
    "display_scores(base_rmse_scores)"
   ]
  },
  {
   "cell_type": "code",
   "execution_count": 26,
   "metadata": {
    "scrolled": false
   },
   "outputs": [
    {
     "name": "stdout",
     "output_type": "stream",
     "text": [
      "Scores: [3.95278341 3.95152085 1.87932318 4.60756379 2.34732763 3.25033708\n",
      " 3.05134789 2.87392961 3.93151966 5.13068098]\n",
      "Mean: 3.497633409229954\n",
      "Standard deviation: 0.9535033555337673\n"
     ]
    }
   ],
   "source": [
    "#Gradient Boosting Model\n",
    "scores = cross_val_score(poisson_gbrt_sm, X_train_sm,y_train_sm, scoring=\"neg_mean_squared_error\", cv=10)\n",
    "\n",
    "gradient_bal_rmse_scores = np.sqrt(-scores)\n",
    "\n",
    "def display_scores(scores):\n",
    "    print(\"Scores:\", scores)\n",
    "    print(\"Mean:\", scores.mean())\n",
    "    print(\"Standard deviation:\", scores.std())\n",
    "\n",
    "display_scores(gradient_bal_rmse_scores)"
   ]
  },
  {
   "cell_type": "markdown",
   "metadata": {},
   "source": [
    "# Hyper-parameter Tuning  of the Gradient Boost Model: Corrected Imbalanced dataset"
   ]
  },
  {
   "cell_type": "code",
   "execution_count": 70,
   "metadata": {},
   "outputs": [
    {
     "name": "stderr",
     "output_type": "stream",
     "text": [
      "/Users/ericasa1/opt/anaconda3/envs/insight/lib/python3.8/site-packages/sklearn/model_selection/_search.py:847: FutureWarning: The parameter 'iid' is deprecated in 0.22 and will be removed in 0.24.\n",
      "  warnings.warn(\n"
     ]
    },
    {
     "data": {
      "text/plain": [
       "GridSearchCV(cv=10,\n",
       "             estimator=HistGradientBoostingRegressor(loss='poisson',\n",
       "                                                     random_state=10),\n",
       "             iid=False, n_jobs=4,\n",
       "             param_grid={'max_depth': range(8, 20, 2),\n",
       "                         'max_iter': range(70, 150, 10),\n",
       "                         'max_leaf_nodes': range(20, 40, 5),\n",
       "                         'min_samples_leaf': range(30, 100, 10)},\n",
       "             scoring='neg_mean_squared_error')"
      ]
     },
     "execution_count": 70,
     "metadata": {},
     "output_type": "execute_result"
    }
   ],
   "source": [
    "#importing relevant libraries\n",
    "from sklearn.model_selection import GridSearchCV\n",
    "from sklearn.model_selection import RandomizedSearchCV\n",
    "# fix all parameters and changed n_estimators\n",
    "param_test1 = {'max_depth':range(8,20,2), 'min_samples_leaf':range(30,100,10),\n",
    "              \"max_iter\" : range(70,150,10), \"max_leaf_nodes\" : range(20, 40, 5)}\n",
    "gsearch1 = GridSearchCV(estimator = HistGradientBoostingRegressor(loss=\"poisson\", learning_rate =0.1, random_state=10), \n",
    "              param_grid = param_test1, scoring='neg_mean_squared_error',n_jobs=4,iid=False, cv=10)\n",
    "gsearch1.fit(X_sm,y_sm)"
   ]
  },
  {
   "cell_type": "code",
   "execution_count": 71,
   "metadata": {},
   "outputs": [
    {
     "data": {
      "text/plain": [
       "{'max_depth': 10,\n",
       " 'max_iter': 140,\n",
       " 'max_leaf_nodes': 25,\n",
       " 'min_samples_leaf': 30}"
      ]
     },
     "execution_count": 71,
     "metadata": {},
     "output_type": "execute_result"
    }
   ],
   "source": [
    "gsearch1.best_params_"
   ]
  },
  {
   "cell_type": "code",
   "execution_count": 72,
   "metadata": {},
   "outputs": [
    {
     "data": {
      "text/plain": [
       "HistGradientBoostingRegressor(loss='poisson', max_depth=10, max_iter=140,\n",
       "                              max_leaf_nodes=25, min_samples_leaf=30,\n",
       "                              random_state=10)"
      ]
     },
     "execution_count": 72,
     "metadata": {},
     "output_type": "execute_result"
    }
   ],
   "source": [
    "poisson_gbrt_tuned  = HistGradientBoostingRegressor(loss=\"poisson\", learning_rate =0.1, random_state=10,\n",
    "                             max_depth = 10, max_iter = 140, max_leaf_nodes = 25, min_samples_leaf = 30)\n",
    "poisson_gbrt_tuned.fit(X_train_sm,y_train_sm)"
   ]
  },
  {
   "cell_type": "code",
   "execution_count": 73,
   "metadata": {
    "scrolled": true
   },
   "outputs": [
    {
     "name": "stdout",
     "output_type": "stream",
     "text": [
      "Poisson evaluation:\n",
      "MSE: 7.809\n",
      "MAE: 0.558\n",
      "R_square: 0.277\n",
      "mean Poisson deviance: 0.948\n"
     ]
    }
   ],
   "source": [
    "print(\"Poisson evaluation:\")\n",
    "score_estimator(poisson_gbrt_tuned, X_test_sm)"
   ]
  },
  {
   "cell_type": "code",
   "execution_count": 74,
   "metadata": {
    "scrolled": true
   },
   "outputs": [
    {
     "name": "stdout",
     "output_type": "stream",
     "text": [
      "Scores: [3.73165821 3.92185602 1.84536181 4.48385154 2.31890616 3.25873746\n",
      " 2.83118497 2.85729018 3.93817857 5.16832014]\n",
      "Mean: 3.4355345054539064\n",
      "Standard deviation: 0.9583701623832052\n"
     ]
    }
   ],
   "source": [
    "#Hypertuned Gradient Boosting Model\n",
    "scores = cross_val_score(poisson_gbrt_tuned, X_train_sm, y_train_sm, scoring=\"neg_mean_squared_error\", cv=10)\n",
    "\n",
    "gradient_rmse_scores_tuned = np.sqrt(-scores)\n",
    "\n",
    "def display_scores(scores):\n",
    "    print(\"Scores:\", scores)\n",
    "    print(\"Mean:\", scores.mean())\n",
    "    print(\"Standard deviation:\", scores.std())\n",
    "\n",
    "display_scores(gradient_rmse_scores_tuned)"
   ]
  },
  {
   "cell_type": "markdown",
   "metadata": {},
   "source": [
    "## Saving final model: Poisson Gradient Boosting. It performed better than the base model"
   ]
  },
  {
   "cell_type": "code",
   "execution_count": 75,
   "metadata": {},
   "outputs": [],
   "source": [
    "import joblib\n",
    "\n",
    "poissontree_model = open(\"poisson_tree.pkl\",\"wb\")\n",
    "joblib.dump(poisson_gbrt_tuned,poissontree_model)\n",
    "poissontree_model.close()"
   ]
  },
  {
   "cell_type": "code",
   "execution_count": 76,
   "metadata": {},
   "outputs": [
    {
     "ename": "NameError",
     "evalue": "name 'yshssim' is not defined",
     "output_type": "error",
     "traceback": [
      "\u001b[0;31m---------------------------------------------------------------------------\u001b[0m",
      "\u001b[0;31mNameError\u001b[0m                                 Traceback (most recent call last)",
      "\u001b[0;32m<ipython-input-76-d9991dc1dc47>\u001b[0m in \u001b[0;36m<module>\u001b[0;34m\u001b[0m\n\u001b[0;32m----> 1\u001b[0;31m \u001b[0myshssim\u001b[0m\u001b[0;34m\u001b[0m\u001b[0;34m\u001b[0m\u001b[0m\n\u001b[0m",
      "\u001b[0;31mNameError\u001b[0m: name 'yshssim' is not defined"
     ]
    }
   ],
   "source": [
    "yshssim"
   ]
  },
  {
   "cell_type": "code",
   "execution_count": null,
   "metadata": {},
   "outputs": [],
   "source": []
  }
 ],
 "metadata": {
  "kernelspec": {
   "display_name": "Python 3",
   "language": "python",
   "name": "python3"
  },
  "language_info": {
   "codemirror_mode": {
    "name": "ipython",
    "version": 3
   },
   "file_extension": ".py",
   "mimetype": "text/x-python",
   "name": "python",
   "nbconvert_exporter": "python",
   "pygments_lexer": "ipython3",
   "version": "3.8.2"
  }
 },
 "nbformat": 4,
 "nbformat_minor": 4
}
