{
 "cells": [
  {
   "cell_type": "markdown",
   "metadata": {},
   "source": [
    "# Setup Import a few common modules, ensure MatplotLib plots figures inline. Check that Python 3.5 or later and Scikit-Learn ≥0.20 are installed."
   ]
  },
  {
   "cell_type": "code",
   "execution_count": 2,
   "metadata": {},
   "outputs": [],
   "source": [
    "import pandas as pd\n",
    "import numpy as np\n",
    "import csv\n",
    "import matplotlib.pyplot as plt\n",
    "%matplotlib inline\n",
    "import os"
   ]
  },
  {
   "cell_type": "markdown",
   "metadata": {},
   "source": [
    "# Loading both unbalanced and balanced dataset for model estimation"
   ]
  },
  {
   "cell_type": "code",
   "execution_count": 3,
   "metadata": {},
   "outputs": [],
   "source": [
    "#Reading in cleaned data\n",
    "data_unbalanced = pd.read_csv(\"../data/cleaned/cleaned_unbalanced\") \n",
    "data_balanced = pd.read_csv(\"../data/cleaned/cleaned_balanced\") "
   ]
  },
  {
   "cell_type": "code",
   "execution_count": 5,
   "metadata": {
    "scrolled": true
   },
   "outputs": [
    {
     "data": {
      "text/html": [
       "<div>\n",
       "<style scoped>\n",
       "    .dataframe tbody tr th:only-of-type {\n",
       "        vertical-align: middle;\n",
       "    }\n",
       "\n",
       "    .dataframe tbody tr th {\n",
       "        vertical-align: top;\n",
       "    }\n",
       "\n",
       "    .dataframe thead th {\n",
       "        text-align: right;\n",
       "    }\n",
       "</style>\n",
       "<table border=\"1\" class=\"dataframe\">\n",
       "  <thead>\n",
       "    <tr style=\"text-align: right;\">\n",
       "      <th></th>\n",
       "      <th>Unnamed: 0</th>\n",
       "      <th>bee_count</th>\n",
       "      <th>county</th>\n",
       "      <th>mean_temp</th>\n",
       "      <th>wind_gust</th>\n",
       "      <th>precipitation</th>\n",
       "      <th>plant_Achillea sp.</th>\n",
       "      <th>plant_Asteraceae sp.</th>\n",
       "      <th>plant_Brassica sp.</th>\n",
       "      <th>plant_Cirsium sp.</th>\n",
       "      <th>plant_Delphinium sp.</th>\n",
       "      <th>plant_Epilobium latifolium</th>\n",
       "      <th>plant_Erigeron sp.</th>\n",
       "      <th>plant_Lathyrus sp.</th>\n",
       "      <th>plant_Lotus corniculatus</th>\n",
       "      <th>plant_Phacelia sp.</th>\n",
       "      <th>plant_Rubus allegheniensis</th>\n",
       "      <th>plant_Scrophularia sp.</th>\n",
       "    </tr>\n",
       "  </thead>\n",
       "  <tbody>\n",
       "    <tr>\n",
       "      <th>count</th>\n",
       "      <td>10211.000000</td>\n",
       "      <td>10211.000000</td>\n",
       "      <td>10211.000000</td>\n",
       "      <td>10211.000000</td>\n",
       "      <td>10211.000000</td>\n",
       "      <td>10211.000000</td>\n",
       "      <td>10211.000000</td>\n",
       "      <td>10211.000000</td>\n",
       "      <td>10211.000000</td>\n",
       "      <td>10211.000000</td>\n",
       "      <td>10211.000000</td>\n",
       "      <td>10211.000000</td>\n",
       "      <td>10211.000000</td>\n",
       "      <td>10211.000000</td>\n",
       "      <td>10211.000000</td>\n",
       "      <td>10211.000000</td>\n",
       "      <td>10211.000000</td>\n",
       "      <td>10211.000000</td>\n",
       "    </tr>\n",
       "    <tr>\n",
       "      <th>mean</th>\n",
       "      <td>5105.000000</td>\n",
       "      <td>1.755949</td>\n",
       "      <td>110.544315</td>\n",
       "      <td>49.569089</td>\n",
       "      <td>49.569089</td>\n",
       "      <td>49.569089</td>\n",
       "      <td>0.000490</td>\n",
       "      <td>0.001567</td>\n",
       "      <td>0.000588</td>\n",
       "      <td>0.539320</td>\n",
       "      <td>0.002546</td>\n",
       "      <td>0.005190</td>\n",
       "      <td>0.000196</td>\n",
       "      <td>0.001665</td>\n",
       "      <td>0.000686</td>\n",
       "      <td>0.000979</td>\n",
       "      <td>0.002057</td>\n",
       "      <td>0.000979</td>\n",
       "    </tr>\n",
       "    <tr>\n",
       "      <th>std</th>\n",
       "      <td>2947.806133</td>\n",
       "      <td>4.813259</td>\n",
       "      <td>60.559317</td>\n",
       "      <td>13.900134</td>\n",
       "      <td>13.900134</td>\n",
       "      <td>13.900134</td>\n",
       "      <td>0.022124</td>\n",
       "      <td>0.039555</td>\n",
       "      <td>0.024235</td>\n",
       "      <td>0.498476</td>\n",
       "      <td>0.050399</td>\n",
       "      <td>0.071861</td>\n",
       "      <td>0.013995</td>\n",
       "      <td>0.040771</td>\n",
       "      <td>0.026175</td>\n",
       "      <td>0.031281</td>\n",
       "      <td>0.045305</td>\n",
       "      <td>0.031281</td>\n",
       "    </tr>\n",
       "    <tr>\n",
       "      <th>min</th>\n",
       "      <td>0.000000</td>\n",
       "      <td>0.000000</td>\n",
       "      <td>0.000000</td>\n",
       "      <td>-4.700000</td>\n",
       "      <td>-4.700000</td>\n",
       "      <td>-4.700000</td>\n",
       "      <td>0.000000</td>\n",
       "      <td>0.000000</td>\n",
       "      <td>0.000000</td>\n",
       "      <td>0.000000</td>\n",
       "      <td>0.000000</td>\n",
       "      <td>0.000000</td>\n",
       "      <td>0.000000</td>\n",
       "      <td>0.000000</td>\n",
       "      <td>0.000000</td>\n",
       "      <td>0.000000</td>\n",
       "      <td>0.000000</td>\n",
       "      <td>0.000000</td>\n",
       "    </tr>\n",
       "    <tr>\n",
       "      <th>25%</th>\n",
       "      <td>2552.500000</td>\n",
       "      <td>1.000000</td>\n",
       "      <td>61.000000</td>\n",
       "      <td>38.800000</td>\n",
       "      <td>38.800000</td>\n",
       "      <td>38.800000</td>\n",
       "      <td>0.000000</td>\n",
       "      <td>0.000000</td>\n",
       "      <td>0.000000</td>\n",
       "      <td>0.000000</td>\n",
       "      <td>0.000000</td>\n",
       "      <td>0.000000</td>\n",
       "      <td>0.000000</td>\n",
       "      <td>0.000000</td>\n",
       "      <td>0.000000</td>\n",
       "      <td>0.000000</td>\n",
       "      <td>0.000000</td>\n",
       "      <td>0.000000</td>\n",
       "    </tr>\n",
       "    <tr>\n",
       "      <th>50%</th>\n",
       "      <td>5105.000000</td>\n",
       "      <td>1.000000</td>\n",
       "      <td>114.000000</td>\n",
       "      <td>48.000000</td>\n",
       "      <td>48.000000</td>\n",
       "      <td>48.000000</td>\n",
       "      <td>0.000000</td>\n",
       "      <td>0.000000</td>\n",
       "      <td>0.000000</td>\n",
       "      <td>1.000000</td>\n",
       "      <td>0.000000</td>\n",
       "      <td>0.000000</td>\n",
       "      <td>0.000000</td>\n",
       "      <td>0.000000</td>\n",
       "      <td>0.000000</td>\n",
       "      <td>0.000000</td>\n",
       "      <td>0.000000</td>\n",
       "      <td>0.000000</td>\n",
       "    </tr>\n",
       "    <tr>\n",
       "      <th>75%</th>\n",
       "      <td>7657.500000</td>\n",
       "      <td>1.000000</td>\n",
       "      <td>164.000000</td>\n",
       "      <td>59.800000</td>\n",
       "      <td>59.800000</td>\n",
       "      <td>59.800000</td>\n",
       "      <td>0.000000</td>\n",
       "      <td>0.000000</td>\n",
       "      <td>0.000000</td>\n",
       "      <td>1.000000</td>\n",
       "      <td>0.000000</td>\n",
       "      <td>0.000000</td>\n",
       "      <td>0.000000</td>\n",
       "      <td>0.000000</td>\n",
       "      <td>0.000000</td>\n",
       "      <td>0.000000</td>\n",
       "      <td>0.000000</td>\n",
       "      <td>0.000000</td>\n",
       "    </tr>\n",
       "    <tr>\n",
       "      <th>max</th>\n",
       "      <td>10210.000000</td>\n",
       "      <td>106.000000</td>\n",
       "      <td>210.000000</td>\n",
       "      <td>81.300000</td>\n",
       "      <td>81.300000</td>\n",
       "      <td>81.300000</td>\n",
       "      <td>1.000000</td>\n",
       "      <td>1.000000</td>\n",
       "      <td>1.000000</td>\n",
       "      <td>1.000000</td>\n",
       "      <td>1.000000</td>\n",
       "      <td>1.000000</td>\n",
       "      <td>1.000000</td>\n",
       "      <td>1.000000</td>\n",
       "      <td>1.000000</td>\n",
       "      <td>1.000000</td>\n",
       "      <td>1.000000</td>\n",
       "      <td>1.000000</td>\n",
       "    </tr>\n",
       "  </tbody>\n",
       "</table>\n",
       "</div>"
      ],
      "text/plain": [
       "         Unnamed: 0     bee_count        county     mean_temp     wind_gust  \\\n",
       "count  10211.000000  10211.000000  10211.000000  10211.000000  10211.000000   \n",
       "mean    5105.000000      1.755949    110.544315     49.569089     49.569089   \n",
       "std     2947.806133      4.813259     60.559317     13.900134     13.900134   \n",
       "min        0.000000      0.000000      0.000000     -4.700000     -4.700000   \n",
       "25%     2552.500000      1.000000     61.000000     38.800000     38.800000   \n",
       "50%     5105.000000      1.000000    114.000000     48.000000     48.000000   \n",
       "75%     7657.500000      1.000000    164.000000     59.800000     59.800000   \n",
       "max    10210.000000    106.000000    210.000000     81.300000     81.300000   \n",
       "\n",
       "       precipitation  plant_Achillea sp.  plant_Asteraceae sp.  \\\n",
       "count   10211.000000        10211.000000          10211.000000   \n",
       "mean       49.569089            0.000490              0.001567   \n",
       "std        13.900134            0.022124              0.039555   \n",
       "min        -4.700000            0.000000              0.000000   \n",
       "25%        38.800000            0.000000              0.000000   \n",
       "50%        48.000000            0.000000              0.000000   \n",
       "75%        59.800000            0.000000              0.000000   \n",
       "max        81.300000            1.000000              1.000000   \n",
       "\n",
       "       plant_Brassica sp.  plant_Cirsium sp.  plant_Delphinium sp.  \\\n",
       "count        10211.000000       10211.000000          10211.000000   \n",
       "mean             0.000588           0.539320              0.002546   \n",
       "std              0.024235           0.498476              0.050399   \n",
       "min              0.000000           0.000000              0.000000   \n",
       "25%              0.000000           0.000000              0.000000   \n",
       "50%              0.000000           1.000000              0.000000   \n",
       "75%              0.000000           1.000000              0.000000   \n",
       "max              1.000000           1.000000              1.000000   \n",
       "\n",
       "       plant_Epilobium latifolium  plant_Erigeron sp.  plant_Lathyrus sp.  \\\n",
       "count                10211.000000        10211.000000        10211.000000   \n",
       "mean                     0.005190            0.000196            0.001665   \n",
       "std                      0.071861            0.013995            0.040771   \n",
       "min                      0.000000            0.000000            0.000000   \n",
       "25%                      0.000000            0.000000            0.000000   \n",
       "50%                      0.000000            0.000000            0.000000   \n",
       "75%                      0.000000            0.000000            0.000000   \n",
       "max                      1.000000            1.000000            1.000000   \n",
       "\n",
       "       plant_Lotus corniculatus  plant_Phacelia sp.  \\\n",
       "count              10211.000000        10211.000000   \n",
       "mean                   0.000686            0.000979   \n",
       "std                    0.026175            0.031281   \n",
       "min                    0.000000            0.000000   \n",
       "25%                    0.000000            0.000000   \n",
       "50%                    0.000000            0.000000   \n",
       "75%                    0.000000            0.000000   \n",
       "max                    1.000000            1.000000   \n",
       "\n",
       "       plant_Rubus allegheniensis  plant_Scrophularia sp.  \n",
       "count                10211.000000            10211.000000  \n",
       "mean                     0.002057                0.000979  \n",
       "std                      0.045305                0.031281  \n",
       "min                      0.000000                0.000000  \n",
       "25%                      0.000000                0.000000  \n",
       "50%                      0.000000                0.000000  \n",
       "75%                      0.000000                0.000000  \n",
       "max                      1.000000                1.000000  "
      ]
     },
     "execution_count": 5,
     "metadata": {},
     "output_type": "execute_result"
    }
   ],
   "source": [
    "data_unbalanced.describe()"
   ]
  },
  {
   "cell_type": "code",
   "execution_count": 6,
   "metadata": {
    "scrolled": true
   },
   "outputs": [
    {
     "data": {
      "text/html": [
       "<div>\n",
       "<style scoped>\n",
       "    .dataframe tbody tr th:only-of-type {\n",
       "        vertical-align: middle;\n",
       "    }\n",
       "\n",
       "    .dataframe tbody tr th {\n",
       "        vertical-align: top;\n",
       "    }\n",
       "\n",
       "    .dataframe thead th {\n",
       "        text-align: right;\n",
       "    }\n",
       "</style>\n",
       "<table border=\"1\" class=\"dataframe\">\n",
       "  <thead>\n",
       "    <tr style=\"text-align: right;\">\n",
       "      <th></th>\n",
       "      <th>Unnamed: 0</th>\n",
       "      <th>bee_count</th>\n",
       "      <th>county</th>\n",
       "      <th>mean_temp</th>\n",
       "      <th>wind_gust</th>\n",
       "      <th>precipitation</th>\n",
       "      <th>plant_Achillea sp.</th>\n",
       "      <th>plant_Asteraceae sp.</th>\n",
       "      <th>plant_Brassica sp.</th>\n",
       "      <th>plant_Cirsium sp.</th>\n",
       "      <th>plant_Delphinium sp.</th>\n",
       "      <th>plant_Epilobium latifolium</th>\n",
       "      <th>plant_Erigeron sp.</th>\n",
       "      <th>plant_Lathyrus sp.</th>\n",
       "      <th>plant_Lotus corniculatus</th>\n",
       "      <th>plant_Phacelia sp.</th>\n",
       "      <th>plant_Rubus allegheniensis</th>\n",
       "      <th>plant_Scrophularia sp.</th>\n",
       "    </tr>\n",
       "  </thead>\n",
       "  <tbody>\n",
       "    <tr>\n",
       "      <th>count</th>\n",
       "      <td>10194.000000</td>\n",
       "      <td>10194.000000</td>\n",
       "      <td>10194.000000</td>\n",
       "      <td>10194.000000</td>\n",
       "      <td>10194.000000</td>\n",
       "      <td>10194.000000</td>\n",
       "      <td>10194.000000</td>\n",
       "      <td>10194.000000</td>\n",
       "      <td>10194.000000</td>\n",
       "      <td>10194.000000</td>\n",
       "      <td>10194.000000</td>\n",
       "      <td>10194.000000</td>\n",
       "      <td>10194.000000</td>\n",
       "      <td>10194.000000</td>\n",
       "      <td>10194.000000</td>\n",
       "      <td>10194.000000</td>\n",
       "      <td>10194.000000</td>\n",
       "      <td>10194.000000</td>\n",
       "    </tr>\n",
       "    <tr>\n",
       "      <th>mean</th>\n",
       "      <td>3821.691485</td>\n",
       "      <td>0.901903</td>\n",
       "      <td>112.160879</td>\n",
       "      <td>50.878742</td>\n",
       "      <td>50.878683</td>\n",
       "      <td>50.879392</td>\n",
       "      <td>0.000196</td>\n",
       "      <td>0.000589</td>\n",
       "      <td>0.000098</td>\n",
       "      <td>0.508731</td>\n",
       "      <td>0.001079</td>\n",
       "      <td>0.002256</td>\n",
       "      <td>0.000098</td>\n",
       "      <td>0.001177</td>\n",
       "      <td>0.000294</td>\n",
       "      <td>0.000196</td>\n",
       "      <td>0.001177</td>\n",
       "      <td>0.000785</td>\n",
       "    </tr>\n",
       "    <tr>\n",
       "      <th>std</th>\n",
       "      <td>2668.025672</td>\n",
       "      <td>3.599872</td>\n",
       "      <td>63.365852</td>\n",
       "      <td>11.260748</td>\n",
       "      <td>11.261413</td>\n",
       "      <td>11.260316</td>\n",
       "      <td>0.014006</td>\n",
       "      <td>0.024255</td>\n",
       "      <td>0.009904</td>\n",
       "      <td>0.499948</td>\n",
       "      <td>0.032833</td>\n",
       "      <td>0.047448</td>\n",
       "      <td>0.009904</td>\n",
       "      <td>0.034291</td>\n",
       "      <td>0.017153</td>\n",
       "      <td>0.014006</td>\n",
       "      <td>0.034291</td>\n",
       "      <td>0.028004</td>\n",
       "    </tr>\n",
       "    <tr>\n",
       "      <th>min</th>\n",
       "      <td>0.000000</td>\n",
       "      <td>0.000000</td>\n",
       "      <td>0.000000</td>\n",
       "      <td>-4.700000</td>\n",
       "      <td>-4.700000</td>\n",
       "      <td>-4.700000</td>\n",
       "      <td>0.000000</td>\n",
       "      <td>0.000000</td>\n",
       "      <td>0.000000</td>\n",
       "      <td>0.000000</td>\n",
       "      <td>0.000000</td>\n",
       "      <td>0.000000</td>\n",
       "      <td>0.000000</td>\n",
       "      <td>0.000000</td>\n",
       "      <td>0.000000</td>\n",
       "      <td>0.000000</td>\n",
       "      <td>0.000000</td>\n",
       "      <td>0.000000</td>\n",
       "    </tr>\n",
       "    <tr>\n",
       "      <th>25%</th>\n",
       "      <td>1683.000000</td>\n",
       "      <td>0.000000</td>\n",
       "      <td>50.000000</td>\n",
       "      <td>43.502889</td>\n",
       "      <td>43.502889</td>\n",
       "      <td>43.502889</td>\n",
       "      <td>0.000000</td>\n",
       "      <td>0.000000</td>\n",
       "      <td>0.000000</td>\n",
       "      <td>0.000000</td>\n",
       "      <td>0.000000</td>\n",
       "      <td>0.000000</td>\n",
       "      <td>0.000000</td>\n",
       "      <td>0.000000</td>\n",
       "      <td>0.000000</td>\n",
       "      <td>0.000000</td>\n",
       "      <td>0.000000</td>\n",
       "      <td>0.000000</td>\n",
       "    </tr>\n",
       "    <tr>\n",
       "      <th>50%</th>\n",
       "      <td>3371.500000</td>\n",
       "      <td>0.000000</td>\n",
       "      <td>117.000000</td>\n",
       "      <td>52.669026</td>\n",
       "      <td>52.669026</td>\n",
       "      <td>52.669026</td>\n",
       "      <td>0.000000</td>\n",
       "      <td>0.000000</td>\n",
       "      <td>0.000000</td>\n",
       "      <td>1.000000</td>\n",
       "      <td>0.000000</td>\n",
       "      <td>0.000000</td>\n",
       "      <td>0.000000</td>\n",
       "      <td>0.000000</td>\n",
       "      <td>0.000000</td>\n",
       "      <td>0.000000</td>\n",
       "      <td>0.000000</td>\n",
       "      <td>0.000000</td>\n",
       "    </tr>\n",
       "    <tr>\n",
       "      <th>75%</th>\n",
       "      <td>5144.500000</td>\n",
       "      <td>1.000000</td>\n",
       "      <td>172.000000</td>\n",
       "      <td>54.998903</td>\n",
       "      <td>54.998903</td>\n",
       "      <td>54.998903</td>\n",
       "      <td>0.000000</td>\n",
       "      <td>0.000000</td>\n",
       "      <td>0.000000</td>\n",
       "      <td>1.000000</td>\n",
       "      <td>0.000000</td>\n",
       "      <td>0.000000</td>\n",
       "      <td>0.000000</td>\n",
       "      <td>0.000000</td>\n",
       "      <td>0.000000</td>\n",
       "      <td>0.000000</td>\n",
       "      <td>0.000000</td>\n",
       "      <td>0.000000</td>\n",
       "    </tr>\n",
       "    <tr>\n",
       "      <th>max</th>\n",
       "      <td>10210.000000</td>\n",
       "      <td>93.000000</td>\n",
       "      <td>210.000000</td>\n",
       "      <td>81.300000</td>\n",
       "      <td>81.300000</td>\n",
       "      <td>81.300000</td>\n",
       "      <td>1.000000</td>\n",
       "      <td>1.000000</td>\n",
       "      <td>1.000000</td>\n",
       "      <td>1.000000</td>\n",
       "      <td>1.000000</td>\n",
       "      <td>1.000000</td>\n",
       "      <td>1.000000</td>\n",
       "      <td>1.000000</td>\n",
       "      <td>1.000000</td>\n",
       "      <td>1.000000</td>\n",
       "      <td>1.000000</td>\n",
       "      <td>1.000000</td>\n",
       "    </tr>\n",
       "  </tbody>\n",
       "</table>\n",
       "</div>"
      ],
      "text/plain": [
       "         Unnamed: 0     bee_count        county     mean_temp     wind_gust  \\\n",
       "count  10194.000000  10194.000000  10194.000000  10194.000000  10194.000000   \n",
       "mean    3821.691485      0.901903    112.160879     50.878742     50.878683   \n",
       "std     2668.025672      3.599872     63.365852     11.260748     11.261413   \n",
       "min        0.000000      0.000000      0.000000     -4.700000     -4.700000   \n",
       "25%     1683.000000      0.000000     50.000000     43.502889     43.502889   \n",
       "50%     3371.500000      0.000000    117.000000     52.669026     52.669026   \n",
       "75%     5144.500000      1.000000    172.000000     54.998903     54.998903   \n",
       "max    10210.000000     93.000000    210.000000     81.300000     81.300000   \n",
       "\n",
       "       precipitation  plant_Achillea sp.  plant_Asteraceae sp.  \\\n",
       "count   10194.000000        10194.000000          10194.000000   \n",
       "mean       50.879392            0.000196              0.000589   \n",
       "std        11.260316            0.014006              0.024255   \n",
       "min        -4.700000            0.000000              0.000000   \n",
       "25%        43.502889            0.000000              0.000000   \n",
       "50%        52.669026            0.000000              0.000000   \n",
       "75%        54.998903            0.000000              0.000000   \n",
       "max        81.300000            1.000000              1.000000   \n",
       "\n",
       "       plant_Brassica sp.  plant_Cirsium sp.  plant_Delphinium sp.  \\\n",
       "count        10194.000000       10194.000000          10194.000000   \n",
       "mean             0.000098           0.508731              0.001079   \n",
       "std              0.009904           0.499948              0.032833   \n",
       "min              0.000000           0.000000              0.000000   \n",
       "25%              0.000000           0.000000              0.000000   \n",
       "50%              0.000000           1.000000              0.000000   \n",
       "75%              0.000000           1.000000              0.000000   \n",
       "max              1.000000           1.000000              1.000000   \n",
       "\n",
       "       plant_Epilobium latifolium  plant_Erigeron sp.  plant_Lathyrus sp.  \\\n",
       "count                10194.000000        10194.000000        10194.000000   \n",
       "mean                     0.002256            0.000098            0.001177   \n",
       "std                      0.047448            0.009904            0.034291   \n",
       "min                      0.000000            0.000000            0.000000   \n",
       "25%                      0.000000            0.000000            0.000000   \n",
       "50%                      0.000000            0.000000            0.000000   \n",
       "75%                      0.000000            0.000000            0.000000   \n",
       "max                      1.000000            1.000000            1.000000   \n",
       "\n",
       "       plant_Lotus corniculatus  plant_Phacelia sp.  \\\n",
       "count              10194.000000        10194.000000   \n",
       "mean                   0.000294            0.000196   \n",
       "std                    0.017153            0.014006   \n",
       "min                    0.000000            0.000000   \n",
       "25%                    0.000000            0.000000   \n",
       "50%                    0.000000            0.000000   \n",
       "75%                    0.000000            0.000000   \n",
       "max                    1.000000            1.000000   \n",
       "\n",
       "       plant_Rubus allegheniensis  plant_Scrophularia sp.  \n",
       "count                10194.000000            10194.000000  \n",
       "mean                     0.001177                0.000785  \n",
       "std                      0.034291                0.028004  \n",
       "min                      0.000000                0.000000  \n",
       "25%                      0.000000                0.000000  \n",
       "50%                      0.000000                0.000000  \n",
       "75%                      0.000000                0.000000  \n",
       "max                      1.000000                1.000000  "
      ]
     },
     "execution_count": 6,
     "metadata": {},
     "output_type": "execute_result"
    }
   ],
   "source": [
    "data_balanced.describe()"
   ]
  },
  {
   "cell_type": "markdown",
   "metadata": {},
   "source": [
    "# Model Estimation (Unbalanced Dataset)"
   ]
  },
  {
   "cell_type": "code",
   "execution_count": 7,
   "metadata": {},
   "outputs": [],
   "source": [
    "from sklearn.metrics import mean_squared_error\n",
    "from sklearn.metrics import mean_absolute_error\n",
    "from sklearn.metrics import mean_poisson_deviance\n",
    "from sklearn.metrics import r2_score\n",
    "from sklearn.model_selection import train_test_split\n",
    "from sklearn import preprocessing\n",
    "from sklearn.linear_model import PoissonRegressor\n",
    "from sklearn.experimental import enable_hist_gradient_boosting  # noqa\n",
    "from sklearn.ensemble import HistGradientBoostingRegressor\n",
    "from sklearn.model_selection import train_test_split\n",
    "from sklearn import preprocessing"
   ]
  },
  {
   "cell_type": "code",
   "execution_count": 8,
   "metadata": {},
   "outputs": [],
   "source": [
    "#selecting the features in X vector and target into y vector\n",
    "X = data_unbalanced.drop(['bee_count', 'Unnamed: 0'], axis =1)\n",
    "y= data_unbalanced['bee_count']\n",
    "\n",
    "#Scaling features to put them in similar scales\n",
    "X_unbalanced = preprocessing.scale(X)\n",
    "\n",
    "#selecting 70% of unbalanced dataset for model training and 30% for testing\n",
    "X_train, X_test, y_train, y_test = train_test_split(X,y, test_size = 0.3, random_state = 0)\n"
   ]
  },
  {
   "cell_type": "code",
   "execution_count": 9,
   "metadata": {},
   "outputs": [],
   "source": [
    "#function to obtain model metrics to judge the quality of the estimated models\n",
    "\n",
    "def score_estimator(estimator, X_test):\n",
    "    \"\"\"Score an estimator on the test set.\"\"\"\n",
    "    y_pred = estimator.predict(X_test)\n",
    "\n",
    "    print(\"MSE: %.3f\" % mean_squared_error(y_test, y_pred))\n",
    "    print(\"MAE: %.3f\" % mean_absolute_error(y_test, y_pred))\n",
    "    print(\"R_square: %.3f\" % r2_score(y_test, y_pred))\n",
    "\n",
    "    # Ignore non-positive predictions, as they are invalid for\n",
    "    # the Poisson deviance.\n",
    "    mask = y_pred > 0\n",
    "    if (~mask).any():\n",
    "        n_masked, n_samples = (~mask).sum(), mask.shape[0]\n",
    "        print(f\"WARNING: Estimator yields invalid, non-positive predictions \"\n",
    "              f\" for {n_masked} samples out of {n_samples}. These predictions \"\n",
    "              f\"are ignored when computing the Poisson deviance.\")\n",
    "\n",
    "    print(\"mean Poisson deviance: %.3f\" % mean_poisson_deviance(y_test, y_pred))"
   ]
  },
  {
   "cell_type": "code",
   "execution_count": null,
   "metadata": {},
   "outputs": [],
   "source": [
    "poisson_glm = PoissonRegressor(max_iter =500)\n",
    "poisson_glm.fit(X_train,y_train)\n",
    "\n",
    "print(\"Poisson evaluation:\")\n",
    "score_estimator(poisson_glm, X_test)\n",
    "\n",
    "poisson_gbrt = HistGradientBoostingRegressor(loss=\"poisson\")\n",
    "poisson_gbrt.fit(X_train,y_train)\n",
    "\n",
    "print(\"Poisson Gradient Boosted Trees evaluation:\")\n",
    "score_estimator(poisson_gbrt, X_test)"
   ]
  },
  {
   "cell_type": "markdown",
   "metadata": {},
   "source": [
    "## Estimating the base poisson model\n"
   ]
  },
  {
   "cell_type": "code",
   "execution_count": 10,
   "metadata": {},
   "outputs": [
    {
     "data": {
      "text/plain": [
       "PoissonRegressor(max_iter=500)"
      ]
     },
     "execution_count": 10,
     "metadata": {},
     "output_type": "execute_result"
    }
   ],
   "source": [
    "poisson_glm = PoissonRegressor(max_iter =500)\n",
    "poisson_glm.fit(X_train,y_train)"
   ]
  },
  {
   "cell_type": "code",
   "execution_count": 11,
   "metadata": {
    "scrolled": true
   },
   "outputs": [
    {
     "name": "stdout",
     "output_type": "stream",
     "text": [
      "Poisson evaluation:\n",
      "MSE: 19.618\n",
      "MAE: 1.373\n",
      "R_square: 0.013\n",
      "mean Poisson deviance: 2.708\n"
     ]
    }
   ],
   "source": [
    "print(\"Poisson evaluation:\")\n",
    "score_estimator(poisson_glm, X_test)"
   ]
  },
  {
   "cell_type": "markdown",
   "metadata": {},
   "source": [
    "## Estimating the base advanced poisson model\n"
   ]
  },
  {
   "cell_type": "code",
   "execution_count": 12,
   "metadata": {},
   "outputs": [
    {
     "data": {
      "text/plain": [
       "HistGradientBoostingRegressor(loss='poisson')"
      ]
     },
     "execution_count": 12,
     "metadata": {},
     "output_type": "execute_result"
    }
   ],
   "source": [
    "poisson_gbrt = HistGradientBoostingRegressor(loss=\"poisson\")\n",
    "\n",
    "poisson_gbrt.fit(X_train,y_train)"
   ]
  },
  {
   "cell_type": "code",
   "execution_count": 13,
   "metadata": {
    "scrolled": true
   },
   "outputs": [
    {
     "name": "stdout",
     "output_type": "stream",
     "text": [
      "Poisson Gradient Boosted Trees evaluation:\n",
      "MSE: 17.812\n",
      "MAE: 1.008\n",
      "R_square: 0.103\n",
      "mean Poisson deviance: 1.837\n"
     ]
    }
   ],
   "source": [
    "print(\"Poisson Gradient Boosted Trees evaluation:\")\n",
    "score_estimator(poisson_gbrt, X_test)"
   ]
  },
  {
   "cell_type": "markdown",
   "metadata": {},
   "source": [
    "# Conducting a 10 fold cross-valuation to evaluate our base model and complex model for the balanced dataset: looking out for overfitting\n"
   ]
  },
  {
   "cell_type": "code",
   "execution_count": 29,
   "metadata": {
    "scrolled": true
   },
   "outputs": [],
   "source": [
    "from sklearn.model_selection import cross_val_score"
   ]
  },
  {
   "cell_type": "code",
   "execution_count": 31,
   "metadata": {
    "scrolled": false
   },
   "outputs": [
    {
     "name": "stdout",
     "output_type": "stream",
     "text": [
      "Scores: [5.46712278 4.10717188 4.88270263 5.44921875 5.50307739 3.82393862\n",
      " 5.46131061 3.66708272 5.49130081 4.93362929]\n",
      "Mean: 4.878655547518458\n",
      "Standard deviation: 0.7039262662307011\n"
     ]
    }
   ],
   "source": [
    "#Base Model\n",
    "scores = cross_val_score(poisson_glm, X_train,y_train, scoring=\"neg_mean_squared_error\", cv=10)\n",
    "\n",
    "base_rmse_scores = np.sqrt(-scores)\n",
    "\n",
    "def display_scores(scores):\n",
    "    print(\"Scores:\", scores)\n",
    "    print(\"Mean:\", scores.mean())\n",
    "    print(\"Standard deviation:\", scores.std())\n",
    "\n",
    "display_scores(base_rmse_scores)"
   ]
  },
  {
   "cell_type": "code",
   "execution_count": 32,
   "metadata": {},
   "outputs": [
    {
     "name": "stdout",
     "output_type": "stream",
     "text": [
      "Scores: [4.98519496 3.97569148 4.89812997 5.1088491  5.46584916 3.64398616\n",
      " 5.04491337 4.36956441 5.09523936 4.33425524]\n",
      "Mean: 4.6921673204028576\n",
      "Standard deviation: 0.5505983150057604\n"
     ]
    }
   ],
   "source": [
    "#Gradient Model\n",
    "scores = cross_val_score(poisson_gbrt, X_train,y_train, scoring=\"neg_mean_squared_error\", cv=10)\n",
    "\n",
    "gradient_rmse_scores = np.sqrt(-scores)\n",
    "\n",
    "def display_scores(scores):\n",
    "    print(\"Scores:\", scores)\n",
    "    print(\"Mean:\", scores.mean())\n",
    "    print(\"Standard deviation:\", scores.std())\n",
    "\n",
    "display_scores(gradient_rmse_scores)"
   ]
  },
  {
   "cell_type": "markdown",
   "metadata": {},
   "source": [
    "# Correcting for imbalanced dataset and repeating the same poisson models above"
   ]
  },
  {
   "cell_type": "code",
   "execution_count": 15,
   "metadata": {},
   "outputs": [],
   "source": [
    "#Groupin the feature variables and target variable to be used to obtain trainset and test set samples\n",
    "X_sm = data_balanced.drop(['bee_count', 'Unnamed: 0'], axis =1)\n",
    "y_sm = data_balanced['bee_count']\n",
    "X_sm = preprocessing.scale(X_sm)\n",
    "\n",
    "X_train_sm, X_test_sm, y_train_sm, y_test_sm = train_test_split(X_sm,y_sm, test_size = 0.3, random_state = 0)"
   ]
  },
  {
   "cell_type": "code",
   "execution_count": 16,
   "metadata": {},
   "outputs": [],
   "source": [
    "#Creating a function to get the accuracy metrics\n",
    "def score_estimator(estimator, X_test_sm):\n",
    "    \"\"\"Score an estimator on the test set.\"\"\"\n",
    "    y_pred_sm = estimator.predict(X_test_sm)\n",
    "\n",
    "    print(\"MSE: %.3f\" % mean_squared_error(y_test_sm, y_pred_sm))\n",
    "    print(\"MAE: %.3f\" % mean_absolute_error(y_test_sm, y_pred_sm))\n",
    "    print(\"R_square: %.3f\" % r2_score(y_test_sm, y_pred_sm))\n",
    "\n",
    "    # Ignore non-positive predictions, as they are invalid for\n",
    "    # the Poisson deviance.\n",
    "    mask = y_pred_sm > 0\n",
    "    if (~mask).any():\n",
    "        n_masked, n_samples = (~mask).sum(), mask.shape[0]\n",
    "        print(f\"WARNING: Estimator yields invalid, non-positive predictions \"\n",
    "              f\" for {n_masked} samples out of {n_samples}. These predictions \"\n",
    "              f\"are ignored when computing the Poisson deviance.\")\n",
    "\n",
    "    print(\"mean Poisson deviance: %.3f\" % mean_poisson_deviance(y_test_sm, y_pred_sm))"
   ]
  },
  {
   "cell_type": "code",
   "execution_count": 17,
   "metadata": {
    "scrolled": true
   },
   "outputs": [
    {
     "name": "stdout",
     "output_type": "stream",
     "text": [
      "Poisson evaluation:\n",
      "MSE: 12.224\n",
      "MAE: 0.913\n",
      "R_square: 0.010\n",
      "mean Poisson deviance: 2.565\n"
     ]
    }
   ],
   "source": [
    "#Estimating the base poisson model for the corrected imbalanced dataset\n",
    "poisson_glm_sm = PoissonRegressor(max_iter =500)\n",
    "poisson_glm_sm.fit(X_train_sm,y_train_sm)\n",
    "\n",
    "print(\"Poisson evaluation:\")\n",
    "score_estimator(poisson_glm_sm, X_test_sm)\n"
   ]
  },
  {
   "cell_type": "code",
   "execution_count": 18,
   "metadata": {},
   "outputs": [
    {
     "name": "stdout",
     "output_type": "stream",
     "text": [
      "Poisson Gradient Boosted Trees evaluation:\n",
      "MSE: 11.357\n",
      "MAE: 0.628\n",
      "R_square: 0.080\n",
      "mean Poisson deviance: 1.290\n"
     ]
    }
   ],
   "source": [
    "#Estimating advanced poisson model for the corrected imbalanced dataset\n",
    "poisson_gbrt_sm = HistGradientBoostingRegressor(loss=\"poisson\")\n",
    "poisson_gbrt_sm.fit(X_train_sm,y_train_sm)\n",
    "\n",
    "print(\"Poisson Gradient Boosted Trees evaluation:\")\n",
    "score_estimator(poisson_gbrt_sm, X_test_sm)"
   ]
  },
  {
   "cell_type": "code",
   "execution_count": 33,
   "metadata": {
    "scrolled": false
   },
   "outputs": [
    {
     "name": "stdout",
     "output_type": "stream",
     "text": [
      "Scores: [3.14697728 3.49348688 3.18895573 4.91670151 2.26735217 2.04233502\n",
      " 3.96627798 3.71960047 2.94794894 3.22088468]\n",
      "Mean: 3.2910520670288923\n",
      "Standard deviation: 0.7800243526611133\n"
     ]
    }
   ],
   "source": [
    "#Gradient Model\n",
    "scores = cross_val_score(poisson_gbrt_sm, X_train_sm,y_train_sm, scoring=\"neg_mean_squared_error\", cv=10)\n",
    "\n",
    "gradient_bal_rmse_scores = np.sqrt(-scores)\n",
    "\n",
    "def display_scores(scores):\n",
    "    print(\"Scores:\", scores)\n",
    "    print(\"Mean:\", scores.mean())\n",
    "    print(\"Standard deviation:\", scores.std())\n",
    "\n",
    "display_scores(gradient_bal_rmse_scores)"
   ]
  },
  {
   "cell_type": "markdown",
   "metadata": {},
   "source": [
    "# Conducting a 10 fold cross-valuation to evaluate our base model and complex model for the unbalanced dataset: looking out for overfitting"
   ]
  },
  {
   "cell_type": "code",
   "execution_count": 34,
   "metadata": {},
   "outputs": [
    {
     "name": "stdout",
     "output_type": "stream",
     "text": [
      "Scores: [5.46712278 4.10717188 4.88270263 5.44921875 5.50307739 3.82393862\n",
      " 5.46131061 3.66708272 5.49130081 4.93362929]\n",
      "Mean: 4.878655547518458\n",
      "Standard deviation: 0.7039262662307011\n"
     ]
    }
   ],
   "source": [
    "#Gradient Model\n",
    "scores = cross_val_score(poisson_glm_sm, X_train_sm,y_train_sm, scoring=\"neg_mean_squared_error\", cv=10)\n",
    "\n",
    "base_bal_rmse_scores = np.sqrt(-scores)\n",
    "\n",
    "def display_scores(scores):\n",
    "    print(\"Scores:\", scores)\n",
    "    print(\"Mean:\", scores.mean())\n",
    "    print(\"Standard deviation:\", scores.std())\n",
    "\n",
    "display_scores(base_rmse_scores)"
   ]
  },
  {
   "cell_type": "markdown",
   "metadata": {},
   "source": [
    "## Saving final model: Poisson Gradient Boosting. It performed better than the base model"
   ]
  },
  {
   "cell_type": "code",
   "execution_count": 91,
   "metadata": {},
   "outputs": [],
   "source": [
    "import joblib\n",
    "\n",
    "poissontree_model = open(\"poisson_tree.pkl\",\"wb\")\n",
    "joblib.dump(poisson_gbrt,poissontree_model)\n",
    "poissontree_model.close()"
   ]
  }
 ],
 "metadata": {
  "kernelspec": {
   "display_name": "Python 3",
   "language": "python",
   "name": "python3"
  },
  "language_info": {
   "codemirror_mode": {
    "name": "ipython",
    "version": 3
   },
   "file_extension": ".py",
   "mimetype": "text/x-python",
   "name": "python",
   "nbconvert_exporter": "python",
   "pygments_lexer": "ipython3",
   "version": "3.8.2"
  }
 },
 "nbformat": 4,
 "nbformat_minor": 4
}
